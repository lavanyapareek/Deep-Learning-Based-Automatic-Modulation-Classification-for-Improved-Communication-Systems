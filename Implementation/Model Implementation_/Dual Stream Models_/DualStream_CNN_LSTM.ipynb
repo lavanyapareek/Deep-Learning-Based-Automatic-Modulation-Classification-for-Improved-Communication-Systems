{
  "nbformat": 4,
  "nbformat_minor": 0,
  "metadata": {
    "colab": {
      "name": "Final_Dual_stream_CNN_LSTM.ipynb",
      "provenance": [],
      "collapsed_sections": [
        "PnpSMEPr9_zr"
      ]
    },
    "kernelspec": {
      "name": "python3",
      "display_name": "Python 3"
    },
    "language_info": {
      "name": "python"
    },
    "accelerator": "GPU"
  },
  "cells": [
    {
      "cell_type": "code",
      "metadata": {
        "colab": {
          "base_uri": "https://localhost:8080/"
        },
        "id": "pCYVikail5af",
        "outputId": "fb47a174-f320-4d6a-ef19-e794b71c8925"
      },
      "source": [
        "%tensorflow_version 2.x\n",
        "import tensorflow as tf\n",
        "device_name = tf.test.gpu_device_name()\n",
        "if device_name != '/device:GPU:0':\n",
        "  raise SystemError('GPU device not found')\n",
        "print('Found GPU at: {}'.format(device_name))"
      ],
      "execution_count": 6,
      "outputs": [
        {
          "output_type": "stream",
          "text": [
            "Found GPU at: /device:GPU:0\n"
          ],
          "name": "stdout"
        }
      ]
    },
    {
      "cell_type": "markdown",
      "metadata": {
        "id": "BxxxOwqj956v"
      },
      "source": [
        "# Adi and Lavanya code"
      ]
    },
    {
      "cell_type": "markdown",
      "metadata": {
        "id": "vcNufJXHm2tq"
      },
      "source": [
        "Using Keras 1.2, And tensor Flow 1.x"
      ]
    },
    {
      "cell_type": "code",
      "metadata": {
        "id": "O3w74o_Lm0Vb"
      },
      "source": [
        "from keras import models\n",
        "from keras.models import Sequential\n",
        "from keras.layers import Dense\n",
        "from keras.layers import LSTM, Input\n",
        "from keras.layers import Dropout\n",
        "from keras.layers import Conv1D, MaxPooling1D, Flatten, Conv2D, Reshape, ZeroPadding2D\n",
        "from keras.models import Model\n",
        "import numpy as np\n",
        "import matplotlib.pyplot as plt\n",
        "import pandas as pd\n",
        "import pickle\n",
        "import keras\n",
        "from keras.layers import Layer\n",
        "from keras.layers import Activation, Dense\n",
        "\n"
      ],
      "execution_count": 7,
      "outputs": []
    },
    {
      "cell_type": "code",
      "metadata": {
        "id": "rpQfTxe63ea_",
        "colab": {
          "base_uri": "https://localhost:8080/"
        },
        "outputId": "0bc354fd-0c04-4ee9-d57d-93f8a2f86aa3"
      },
      "source": [
        "print(tf.__version__)"
      ],
      "execution_count": 8,
      "outputs": [
        {
          "output_type": "stream",
          "text": [
            "2.4.1\n"
          ],
          "name": "stdout"
        }
      ]
    },
    {
      "cell_type": "code",
      "metadata": {
        "id": "Ei5o_Eo0nNC6",
        "colab": {
          "base_uri": "https://localhost:8080/"
        },
        "outputId": "6396b3bd-1d4d-4039-9050-6b74490e47e8"
      },
      "source": [
        "#Mounting Google Drive\n",
        "from google.colab import drive\n",
        "drive.mount('/content/drive')"
      ],
      "execution_count": 9,
      "outputs": [
        {
          "output_type": "stream",
          "text": [
            "Drive already mounted at /content/drive; to attempt to forcibly remount, call drive.mount(\"/content/drive\", force_remount=True).\n"
          ],
          "name": "stdout"
        }
      ]
    },
    {
      "cell_type": "code",
      "metadata": {
        "id": "RhoM2aWKnf5G"
      },
      "source": [
        "#De-Pickling Data with encoding latin1\n",
        "with open(\"/content/drive/MyDrive/RML2016.10a_dict.pickle.pkl\", 'rb') as f:\n",
        "    Xd = pickle.load(f, encoding='latin1')"
      ],
      "execution_count": 11,
      "outputs": []
    },
    {
      "cell_type": "code",
      "metadata": {
        "id": "a6xM47_NnjmQ"
      },
      "source": [
        "classes = ['32PSK', '16APSK', '32QAM', 'FM', 'GMSK', '32APSK', 'OQPSK', #1\n",
        " '8ASK', 'BPSK','8PSK', 'AM-SSB-SC', '4ASK', '16PSK', '64APSK', '128QAM', '128APSK','AM-DSB-SC', #2 \n",
        "'AM-SSB-WC', '64QAM', 'QPSK', '256QAM','AM-DSB-WC','OOK','16QAM']\n"
      ],
      "execution_count": 12,
      "outputs": []
    },
    {
      "cell_type": "code",
      "metadata": {
        "id": "QzVfftw5ouTZ"
      },
      "source": [
        "snrs,mods = map(lambda j: sorted(list(set(map(lambda x: x[j], Xd.keys())))), [1,0])\n",
        "X = []\n",
        "lbl = []\n",
        "for mod in mods:\n",
        "    for snr in snrs:\n",
        "        X.append(Xd[(mod,snr)])\n",
        "        for i in range(Xd[(mod,snr)].shape[0]):  lbl.append((mod,snr))\n",
        "X = np.vstack(X)"
      ],
      "execution_count": 13,
      "outputs": []
    },
    {
      "cell_type": "code",
      "metadata": {
        "id": "vcU75HjZo8hQ"
      },
      "source": [
        "np.random.seed(2016)  # 对预处理好的数据进行打包，制作成投入网络训练的格式，并进行one-hot编码\n",
        "n_examples = X.shape[0]\n",
        "n_train = n_examples * 0.5  # 对半\n",
        "train_idx = np.random.choice(range(0, n_examples), size=int(n_train), replace=False)\n",
        "test_idx = list(set(range(0, n_examples)) - set(train_idx))  # label\n",
        "X_train = X[train_idx]\n",
        "X_test = X[test_idx]"
      ],
      "execution_count": 14,
      "outputs": []
    },
    {
      "cell_type": "code",
      "metadata": {
        "id": "OarvnkHupgFP"
      },
      "source": [
        "def to_onehot(yy):\n",
        "    yy1 = np.zeros([len(yy), max(yy) + 1])\n",
        "    yy1[np.arange(len(yy)), yy] = 1\n",
        "    return yy1\n"
      ],
      "execution_count": 15,
      "outputs": []
    },
    {
      "cell_type": "code",
      "metadata": {
        "id": "VdvZIsaIpj82"
      },
      "source": [
        "trainy = list(map(lambda x: mods.index(lbl[x][0]), train_idx))\n",
        "Y_train = to_onehot(trainy)\n",
        "Y_test = to_onehot(list(map(lambda x: mods.index(lbl[x][0]), test_idx)))"
      ],
      "execution_count": 16,
      "outputs": []
    },
    {
      "cell_type": "code",
      "metadata": {
        "id": "2OtkuuCIpkK6",
        "colab": {
          "base_uri": "https://localhost:8080/"
        },
        "outputId": "36f9d015-9329-442f-b2d3-d65aa3debd3b"
      },
      "source": [
        "in_shp = list(X_train.shape[1:])\n",
        "print (X_train.shape, in_shp)\n",
        "classes = mods\n",
        "# %%\n",
        "dr = 0.5  # dropout rate (%) 卷积层部分  https://keras-cn.readthedocs.io/en/latest/layers/convolutional_layer/#conv2d\n",
        "#model = models.Sequential()  # 这里使用keras的序贯模型  https://keras-cn.readthedocs.io/en/latest/models/sequential/\n",
        "# Reshape [N,2,128] to [N,2,128,1] on input"
      ],
      "execution_count": 17,
      "outputs": [
        {
          "output_type": "stream",
          "text": [
            "(110000, 2, 128) [2, 128]\n"
          ],
          "name": "stdout"
        }
      ]
    },
    {
      "cell_type": "code",
      "metadata": {
        "id": "0ma27tT3jmI-"
      },
      "source": [
        "maxlen = 128 # change subnyq sampling rate HERE.\n",
        "\n",
        "def gendata(fp, nsamples):\n",
        "    global snrs, mods, train_idx, test_idx, lbl\n",
        "    with open(fp, 'rb') as f:\n",
        "      Xd = pickle.load(f, encoding='latin1')\n",
        "    \n",
        "    snrs,mods = map(lambda j: sorted(list(set(map(lambda x: x[j], Xd.keys())))), [1,0])\n",
        "    X = []  \n",
        "    lbl = []\n",
        "    for mod in mods:\n",
        "      for snr in snrs:\n",
        "        X.append(Xd[(mod, snr)])\n",
        "        for i in range(Xd[(mod, snr)].shape[0]):\n",
        "          lbl.append((mod, snr))\n",
        "    X = np.vstack(X)\n",
        "    \n",
        "    print('Length of lbl', len(lbl))\n",
        "    print('shape of X', X.shape)\n",
        "\n",
        "    np.random.seed(2016)\n",
        "    n_example = X.shape[0]\n",
        "    n_train = n_example * 0.5\n",
        "    train_idx = np.random.choice(range(0,n_example), size=int(n_train), replace=False)\n",
        "    test_idx = list(set(range(0, n_example)) - set(train_idx))\n",
        "    X_train = X[train_idx]\n",
        "    X_test =  X[test_idx]\n",
        "    \n",
        "    def to_onehot(vec):\n",
        "      vec_hot = np.zeros([len(vec), max(vec) + 1])\n",
        "      vec_hot[np.arange(len(vec)), vec] = 1\n",
        "      return vec_hot\n",
        "    \n",
        "    Y_train = to_onehot(list(map(lambda x: mods.index(lbl[x][0]), train_idx)))\n",
        "    Y_test = to_onehot(list(map(lambda x: mods.index(lbl[x][0]), test_idx)))\n",
        "\n",
        "    return (X_train,X_test,Y_train,Y_test)\n",
        "\n",
        "def norm_pad_zeros(X_train,nsamples):\n",
        "    print (\"Pad:\", X_train.shape)\n",
        "    for i in range(X_train.shape[0]):\n",
        "        X_train[i,:,0] = X_train[i,:,0]/la.norm(X_train[i,:,0],2)\n",
        "    return X_train\n",
        "\n",
        "\n",
        "def to_amp_phase(X_train,X_test,nsamples):\n",
        "    X_train_cmplx = X_train[:,0,:] + 1j* X_train[:,1,:]\n",
        "    X_test_cmplx = X_test[:,0,:] + 1j* X_test[:,1,:]\n",
        "    \n",
        "    X_train_amp = np.abs(X_train_cmplx)\n",
        "    X_train_ang = np.arctan2(X_train[:,1,:],X_train[:,0,:])/np.pi\n",
        "  \n",
        "\n",
        "    X_train_amp = np.reshape(X_train_amp,(-1,1,nsamples))\n",
        "    X_train_ang = np.reshape(X_train_ang,(-1,1,nsamples))\n",
        "   \n",
        "    X_train = np.concatenate((X_train_amp,X_train_ang), axis=1) \n",
        "    X_train = np.transpose(np.array(X_train),(0,2,1))\n",
        "    \n",
        "    X_test_amp = np.abs(X_test_cmplx)\n",
        "    X_test_ang = np.arctan2(X_test[:,1,:],X_test[:,0,:])/np.pi\n",
        "    \n",
        "    \n",
        "    X_test_amp = np.reshape(X_test_amp,(-1,1,nsamples))\n",
        "    X_test_ang = np.reshape(X_test_ang,(-1,1,nsamples))\n",
        "    \n",
        "    X_test = np.concatenate((X_test_amp,X_test_ang), axis=1) \n",
        "    X_test = np.transpose(np.array(X_test),(0,2,1))\n",
        "\n",
        "    X_train = np.transpose(X_train,axes=(0,2,1))\n",
        "    X_test = np.transpose(X_test,axes=(0,2,1))\n",
        "    return (X_train, X_test)"
      ],
      "execution_count": 18,
      "outputs": []
    },
    {
      "cell_type": "code",
      "metadata": {
        "id": "jJA4TcEyZhaq",
        "colab": {
          "base_uri": "https://localhost:8080/"
        },
        "outputId": "94273595-5d4f-4d35-f91d-d1c71ab1b36c"
      },
      "source": [
        "xtrain1,xtest1,ytrain1,ytest1= gendata(\"/content/drive/MyDrive/RML2016.10a_dict.pickle.pkl\",maxlen)\n",
        "print(xtrain1.shape)\n",
        "print(ytrain1.shape)"
      ],
      "execution_count": 20,
      "outputs": [
        {
          "output_type": "stream",
          "text": [
            "Length of lbl 220000\n",
            "shape of X (220000, 2, 128)\n",
            "(110000, 2, 128)\n",
            "(110000, 11)\n"
          ],
          "name": "stdout"
        }
      ]
    },
    {
      "cell_type": "code",
      "metadata": {
        "id": "cX2AgRX_ZmVe",
        "colab": {
          "base_uri": "https://localhost:8080/"
        },
        "outputId": "3303e509-31b1-4b8f-d9f3-f004e68d7763"
      },
      "source": [
        "print('length of X before to_amp_phase:', xtrain1.shape)\n",
        "X_train_ap,X_test_ap = to_amp_phase(xtrain1,xtest1,maxlen)\n",
        "print('length of X after to_amp_phase:', xtrain1.shape)\n",
        "X_train_iq, Y_train_iq = xtrain1, ytrain1\n",
        "X_test_iq, Y_test_iq = xtest1, ytest1\n",
        "Y_train_ap, Y_test_ap = ytrain1, ytest1"
      ],
      "execution_count": 21,
      "outputs": [
        {
          "output_type": "stream",
          "text": [
            "length of X before to_amp_phase: (110000, 2, 128)\n",
            "length of X after to_amp_phase: (110000, 2, 128)\n"
          ],
          "name": "stdout"
        }
      ]
    },
    {
      "cell_type": "code",
      "metadata": {
        "id": "YucVOl5FZog7",
        "colab": {
          "base_uri": "https://localhost:8080/"
        },
        "outputId": "091b2ff1-f779-485b-d81e-8fb80767ec18"
      },
      "source": [
        "print(\"--\"*50)\n",
        "print(\"Training data for 1st Stream: \",X_train_ap.shape)\n",
        "print(\"Training labels for 1st Stream: \",Y_train_ap.shape)\n",
        "print(\"Testing data for 1st Stream: \",X_test_ap.shape)\n",
        "print(\"Testing labels for 1st Stream: \",Y_test_ap.shape)\n",
        "print(\"--\"*50)\n",
        "print(\"Training data for 2nd Stream: \",X_train_iq.shape)\n",
        "print(\"Training labels for 2nd Stream :\",Y_train_iq.shape)\n",
        "print(\"Testing data for 2nd Stream :  \",X_test_iq.shape)\n",
        "print(\"Testing labels for 2nd Stream : \",Y_test_iq.shape)\n",
        "print(\"--\"*50)"
      ],
      "execution_count": 22,
      "outputs": [
        {
          "output_type": "stream",
          "text": [
            "----------------------------------------------------------------------------------------------------\n",
            "Training data for 1st Stream:  (110000, 2, 128)\n",
            "Training labels for 1st Stream:  (110000, 11)\n",
            "Testing data for 1st Stream:  (110000, 2, 128)\n",
            "Testing labels for 1st Stream:  (110000, 11)\n",
            "----------------------------------------------------------------------------------------------------\n",
            "Training data for 2nd Stream:  (110000, 2, 128)\n",
            "Training labels for 2nd Stream : (110000, 11)\n",
            "Testing data for 2nd Stream :   (110000, 2, 128)\n",
            "Testing labels for 2nd Stream :  (110000, 11)\n",
            "----------------------------------------------------------------------------------------------------\n"
          ],
          "name": "stdout"
        }
      ]
    },
    {
      "cell_type": "code",
      "metadata": {
        "id": "05qbqhKo5aaK"
      },
      "source": [
        "X_train_ap=np.reshape(X_train_ap,(-1,2,128,1))\n",
        "X_test_ap=np.reshape(X_test_ap,(-1,2,128,1))\n",
        "X_train_iq=np.reshape(X_train_iq,(-1,2,128,1))\n",
        "X_test_iq=np.reshape(X_test_iq,(-1,2,128,1))"
      ],
      "execution_count": 23,
      "outputs": []
    },
    {
      "cell_type": "code",
      "metadata": {
        "id": "ab05olddZqZ5"
      },
      "source": [
        "X_test=np.reshape(X_test,(-1,2,128,1))"
      ],
      "execution_count": 24,
      "outputs": []
    },
    {
      "cell_type": "code",
      "metadata": {
        "id": "IXnau_zNZsN7"
      },
      "source": [
        "import keras.backend as K"
      ],
      "execution_count": 25,
      "outputs": []
    },
    {
      "cell_type": "code",
      "metadata": {
        "id": "TcFD2Q7OhR95"
      },
      "source": [
        "class attention(Layer):\n",
        "    def __init__(self,**kwargs):\n",
        "        super(attention,self).__init__(**kwargs)\n",
        "\n",
        "    def build(self,input_shape):\n",
        "        self.W=self.add_weight(name=\"att_weight\",shape=(input_shape[-1],1),initializer=\"normal\")\n",
        "        self.b=self.add_weight(name=\"att_bias\",shape=(input_shape[1],1),initializer=\"zeros\")        \n",
        "        super(attention, self).build(input_shape)\n",
        "\n",
        "    def call(self,x):\n",
        "        et=K.squeeze(K.tanh(K.dot(x,self.W)+self.b),axis=-1)\n",
        "        at=K.softmax(et)\n",
        "        at=K.expand_dims(at,axis=-1)\n",
        "        output=x*at\n",
        "        return K.sum(output,axis=1)\n",
        "\n",
        "    def compute_output_shape(self,input_shape):\n",
        "        return (input_shape[0],input_shape[-1])\n",
        "\n",
        "    def get_config(self):\n",
        "        return super(attention,self).get_config()"
      ],
      "execution_count": 26,
      "outputs": []
    },
    {
      "cell_type": "code",
      "metadata": {
        "id": "M2CLMJXBhSNw",
        "colab": {
          "base_uri": "https://localhost:8080/"
        },
        "outputId": "f8b1711e-993b-413c-98ba-6d395fcaee1f"
      },
      "source": [
        "input_x = Input(shape=(2, 128,1))\n",
        "\n",
        "input_x_padding = ZeroPadding2D((0, 2))(input_x)\n",
        "\n",
        "layer1 = Conv2D(256, (1, 3), padding='valid', activation=\"relu\", name=\"conv1\")(input_x_padding)\n",
        "layer1 = Dropout(dr)(layer1)\n",
        "layer1_padding = ZeroPadding2D((0, 2), data_format=\"channels_first\")(layer1)\n",
        "print(layer1_padding.shape)\n",
        "layer2 = Conv2D(256, (2, 3), padding=\"valid\", activation=\"relu\", name=\"conv2\", kernel_initializer='glorot_uniform')(layer1_padding)\n",
        "layer2 = Dropout(dr)(layer2)\n",
        "layer2_padding = ZeroPadding2D((0, 2), data_format=\"channels_first\")(layer2)\n",
        "\n",
        "layer3 = Conv2D(80, (1, 3), padding='valid', activation=\"relu\", name=\"conv3\", kernel_initializer='glorot_uniform')(layer2)\n",
        "layer3 = Dropout(dr)(layer3)\n",
        "layer3_padding = ZeroPadding2D((4, 0), data_format=\"channels_first\")(layer3)\n",
        "print(layer3_padding.shape)\n",
        "\n",
        "\n",
        "concat = Reshape((134, 80))(layer3_padding)\n",
        "\n",
        "\n",
        "att_in = LSTM(100, input_dim=134, input_length=80, return_sequences=True)(concat)\n",
        "att_in = Dropout(dr)(att_in)\n",
        "print(att_in.shape)\n",
        "att_in = LSTM(50, input_dim=134, input_length=80)(att_in)\n",
        "att_in = Dropout(dr)(att_in)\n",
        "\n",
        "\n",
        "att_in = Reshape((1,50))(att_in)\n",
        "\n",
        "model1 = Model(inputs=input_x, outputs=att_in)\n",
        "\n",
        "model1.compile()\n",
        "\n",
        "model1.summary()"
      ],
      "execution_count": 27,
      "outputs": [
        {
          "output_type": "stream",
          "text": [
            "(None, 2, 130, 260)\n",
            "(None, 1, 134, 80)\n",
            "(None, 134, 100)\n",
            "Model: \"model\"\n",
            "_________________________________________________________________\n",
            "Layer (type)                 Output Shape              Param #   \n",
            "=================================================================\n",
            "input_1 (InputLayer)         [(None, 2, 128, 1)]       0         \n",
            "_________________________________________________________________\n",
            "zero_padding2d (ZeroPadding2 (None, 2, 132, 1)         0         \n",
            "_________________________________________________________________\n",
            "conv1 (Conv2D)               (None, 2, 130, 256)       1024      \n",
            "_________________________________________________________________\n",
            "dropout (Dropout)            (None, 2, 130, 256)       0         \n",
            "_________________________________________________________________\n",
            "zero_padding2d_1 (ZeroPaddin (None, 2, 130, 260)       0         \n",
            "_________________________________________________________________\n",
            "conv2 (Conv2D)               (None, 1, 128, 256)       399616    \n",
            "_________________________________________________________________\n",
            "dropout_1 (Dropout)          (None, 1, 128, 256)       0         \n",
            "_________________________________________________________________\n",
            "conv3 (Conv2D)               (None, 1, 126, 80)        61520     \n",
            "_________________________________________________________________\n",
            "dropout_2 (Dropout)          (None, 1, 126, 80)        0         \n",
            "_________________________________________________________________\n",
            "zero_padding2d_3 (ZeroPaddin (None, 1, 134, 80)        0         \n",
            "_________________________________________________________________\n",
            "reshape (Reshape)            (None, 134, 80)           0         \n",
            "_________________________________________________________________\n",
            "lstm (LSTM)                  (None, 134, 100)          72400     \n",
            "_________________________________________________________________\n",
            "dropout_3 (Dropout)          (None, 134, 100)          0         \n",
            "_________________________________________________________________\n",
            "lstm_1 (LSTM)                (None, 50)                30200     \n",
            "_________________________________________________________________\n",
            "dropout_4 (Dropout)          (None, 50)                0         \n",
            "_________________________________________________________________\n",
            "reshape_1 (Reshape)          (None, 1, 50)             0         \n",
            "=================================================================\n",
            "Total params: 564,760\n",
            "Trainable params: 564,760\n",
            "Non-trainable params: 0\n",
            "_________________________________________________________________\n"
          ],
          "name": "stdout"
        }
      ]
    },
    {
      "cell_type": "code",
      "metadata": {
        "id": "44Bs9h7KhSSR",
        "colab": {
          "base_uri": "https://localhost:8080/"
        },
        "outputId": "3784f939-01de-4ade-f12b-705217b51e31"
      },
      "source": [
        "input_x = Input(shape=(2, 128,1))\n",
        "\n",
        "input_x_padding = ZeroPadding2D((0, 2))(input_x)\n",
        "\n",
        "layer1 = Conv2D(256, (1, 3), padding='valid', activation=\"relu\", name=\"conv11\")(input_x_padding)\n",
        "layer1 = Dropout(dr)(layer1)\n",
        "layer1_padding = ZeroPadding2D((0, 2), data_format=\"channels_first\")(layer1)\n",
        "print(layer1_padding.shape)\n",
        "layer2 = Conv2D(256, (2, 3), padding=\"valid\", activation=\"relu\", name=\"conv22\", kernel_initializer='glorot_uniform')(layer1_padding)\n",
        "layer2 = Dropout(dr)(layer2)\n",
        "layer2_padding = ZeroPadding2D((0, 2), data_format=\"channels_first\")(layer2)\n",
        "\n",
        "layer3 = Conv2D(80, (1, 3), padding='valid', activation=\"relu\", name=\"conv33\", kernel_initializer='glorot_uniform')(layer2)\n",
        "layer3 = Dropout(dr)(layer3)\n",
        "layer3_padding = ZeroPadding2D((4, 0), data_format=\"channels_first\")(layer3)\n",
        "print(layer3_padding.shape)\n",
        "\n",
        "\n",
        "concat = Reshape((134, 80))(layer3_padding)\n",
        "\n",
        "\n",
        "att_in = LSTM(100, input_dim=134, input_length=80, return_sequences=True)(concat)\n",
        "att_in = Dropout(dr)(att_in)\n",
        "att_in = LSTM(50, input_dim=134, input_length=80)(att_in)\n",
        "att_in = Dropout(dr)(att_in)\n",
        "\n",
        "att_in = Reshape((50,1))(att_in)\n",
        "\n",
        "model2 = Model(inputs=input_x, outputs=att_in)\n",
        "\n",
        "model2.compile()\n",
        "\n",
        "model2.summary()"
      ],
      "execution_count": 28,
      "outputs": [
        {
          "output_type": "stream",
          "text": [
            "(None, 2, 130, 260)\n",
            "(None, 1, 134, 80)\n",
            "Model: \"model_1\"\n",
            "_________________________________________________________________\n",
            "Layer (type)                 Output Shape              Param #   \n",
            "=================================================================\n",
            "input_2 (InputLayer)         [(None, 2, 128, 1)]       0         \n",
            "_________________________________________________________________\n",
            "zero_padding2d_4 (ZeroPaddin (None, 2, 132, 1)         0         \n",
            "_________________________________________________________________\n",
            "conv11 (Conv2D)              (None, 2, 130, 256)       1024      \n",
            "_________________________________________________________________\n",
            "dropout_5 (Dropout)          (None, 2, 130, 256)       0         \n",
            "_________________________________________________________________\n",
            "zero_padding2d_5 (ZeroPaddin (None, 2, 130, 260)       0         \n",
            "_________________________________________________________________\n",
            "conv22 (Conv2D)              (None, 1, 128, 256)       399616    \n",
            "_________________________________________________________________\n",
            "dropout_6 (Dropout)          (None, 1, 128, 256)       0         \n",
            "_________________________________________________________________\n",
            "conv33 (Conv2D)              (None, 1, 126, 80)        61520     \n",
            "_________________________________________________________________\n",
            "dropout_7 (Dropout)          (None, 1, 126, 80)        0         \n",
            "_________________________________________________________________\n",
            "zero_padding2d_7 (ZeroPaddin (None, 1, 134, 80)        0         \n",
            "_________________________________________________________________\n",
            "reshape_2 (Reshape)          (None, 134, 80)           0         \n",
            "_________________________________________________________________\n",
            "lstm_2 (LSTM)                (None, 134, 100)          72400     \n",
            "_________________________________________________________________\n",
            "dropout_8 (Dropout)          (None, 134, 100)          0         \n",
            "_________________________________________________________________\n",
            "lstm_3 (LSTM)                (None, 50)                30200     \n",
            "_________________________________________________________________\n",
            "dropout_9 (Dropout)          (None, 50)                0         \n",
            "_________________________________________________________________\n",
            "reshape_3 (Reshape)          (None, 50, 1)             0         \n",
            "=================================================================\n",
            "Total params: 564,760\n",
            "Trainable params: 564,760\n",
            "Non-trainable params: 0\n",
            "_________________________________________________________________\n"
          ],
          "name": "stdout"
        }
      ]
    },
    {
      "cell_type": "code",
      "metadata": {
        "id": "OGXvFZF8hSVs"
      },
      "source": [
        "from keras.layers import Conv1D, MaxPooling1D, Flatten, Conv2D, Reshape, ZeroPadding2D\n",
        "from keras.layers import *\n",
        "from keras.models import Model"
      ],
      "execution_count": 29,
      "outputs": []
    },
    {
      "cell_type": "code",
      "metadata": {
        "id": "Cbb0XERjSulm",
        "colab": {
          "base_uri": "https://localhost:8080/"
        },
        "outputId": "a5b7b6a9-eade-4666-a2a6-836ee1f4edea"
      },
      "source": [
        "mergedOut = Multiply()([model1.output,model2.output])\n",
        "mergedOut = Flatten()(mergedOut)    \n",
        "# output layer\n",
        "mergedOut = Dense(11, activation='softmax')(mergedOut)\n",
        "newModel = Model([model1.input,model2.input], mergedOut)\n",
        "newModel.compile(loss='categorical_crossentropy', optimizer='adam', metrics=['accuracy'])\n",
        "newModel.summary()"
      ],
      "execution_count": 30,
      "outputs": [
        {
          "output_type": "stream",
          "text": [
            "Model: \"model_2\"\n",
            "__________________________________________________________________________________________________\n",
            "Layer (type)                    Output Shape         Param #     Connected to                     \n",
            "==================================================================================================\n",
            "input_1 (InputLayer)            [(None, 2, 128, 1)]  0                                            \n",
            "__________________________________________________________________________________________________\n",
            "input_2 (InputLayer)            [(None, 2, 128, 1)]  0                                            \n",
            "__________________________________________________________________________________________________\n",
            "zero_padding2d (ZeroPadding2D)  (None, 2, 132, 1)    0           input_1[0][0]                    \n",
            "__________________________________________________________________________________________________\n",
            "zero_padding2d_4 (ZeroPadding2D (None, 2, 132, 1)    0           input_2[0][0]                    \n",
            "__________________________________________________________________________________________________\n",
            "conv1 (Conv2D)                  (None, 2, 130, 256)  1024        zero_padding2d[0][0]             \n",
            "__________________________________________________________________________________________________\n",
            "conv11 (Conv2D)                 (None, 2, 130, 256)  1024        zero_padding2d_4[0][0]           \n",
            "__________________________________________________________________________________________________\n",
            "dropout (Dropout)               (None, 2, 130, 256)  0           conv1[0][0]                      \n",
            "__________________________________________________________________________________________________\n",
            "dropout_5 (Dropout)             (None, 2, 130, 256)  0           conv11[0][0]                     \n",
            "__________________________________________________________________________________________________\n",
            "zero_padding2d_1 (ZeroPadding2D (None, 2, 130, 260)  0           dropout[0][0]                    \n",
            "__________________________________________________________________________________________________\n",
            "zero_padding2d_5 (ZeroPadding2D (None, 2, 130, 260)  0           dropout_5[0][0]                  \n",
            "__________________________________________________________________________________________________\n",
            "conv2 (Conv2D)                  (None, 1, 128, 256)  399616      zero_padding2d_1[0][0]           \n",
            "__________________________________________________________________________________________________\n",
            "conv22 (Conv2D)                 (None, 1, 128, 256)  399616      zero_padding2d_5[0][0]           \n",
            "__________________________________________________________________________________________________\n",
            "dropout_1 (Dropout)             (None, 1, 128, 256)  0           conv2[0][0]                      \n",
            "__________________________________________________________________________________________________\n",
            "dropout_6 (Dropout)             (None, 1, 128, 256)  0           conv22[0][0]                     \n",
            "__________________________________________________________________________________________________\n",
            "conv3 (Conv2D)                  (None, 1, 126, 80)   61520       dropout_1[0][0]                  \n",
            "__________________________________________________________________________________________________\n",
            "conv33 (Conv2D)                 (None, 1, 126, 80)   61520       dropout_6[0][0]                  \n",
            "__________________________________________________________________________________________________\n",
            "dropout_2 (Dropout)             (None, 1, 126, 80)   0           conv3[0][0]                      \n",
            "__________________________________________________________________________________________________\n",
            "dropout_7 (Dropout)             (None, 1, 126, 80)   0           conv33[0][0]                     \n",
            "__________________________________________________________________________________________________\n",
            "zero_padding2d_3 (ZeroPadding2D (None, 1, 134, 80)   0           dropout_2[0][0]                  \n",
            "__________________________________________________________________________________________________\n",
            "zero_padding2d_7 (ZeroPadding2D (None, 1, 134, 80)   0           dropout_7[0][0]                  \n",
            "__________________________________________________________________________________________________\n",
            "reshape (Reshape)               (None, 134, 80)      0           zero_padding2d_3[0][0]           \n",
            "__________________________________________________________________________________________________\n",
            "reshape_2 (Reshape)             (None, 134, 80)      0           zero_padding2d_7[0][0]           \n",
            "__________________________________________________________________________________________________\n",
            "lstm (LSTM)                     (None, 134, 100)     72400       reshape[0][0]                    \n",
            "__________________________________________________________________________________________________\n",
            "lstm_2 (LSTM)                   (None, 134, 100)     72400       reshape_2[0][0]                  \n",
            "__________________________________________________________________________________________________\n",
            "dropout_3 (Dropout)             (None, 134, 100)     0           lstm[0][0]                       \n",
            "__________________________________________________________________________________________________\n",
            "dropout_8 (Dropout)             (None, 134, 100)     0           lstm_2[0][0]                     \n",
            "__________________________________________________________________________________________________\n",
            "lstm_1 (LSTM)                   (None, 50)           30200       dropout_3[0][0]                  \n",
            "__________________________________________________________________________________________________\n",
            "lstm_3 (LSTM)                   (None, 50)           30200       dropout_8[0][0]                  \n",
            "__________________________________________________________________________________________________\n",
            "dropout_4 (Dropout)             (None, 50)           0           lstm_1[0][0]                     \n",
            "__________________________________________________________________________________________________\n",
            "dropout_9 (Dropout)             (None, 50)           0           lstm_3[0][0]                     \n",
            "__________________________________________________________________________________________________\n",
            "reshape_1 (Reshape)             (None, 1, 50)        0           dropout_4[0][0]                  \n",
            "__________________________________________________________________________________________________\n",
            "reshape_3 (Reshape)             (None, 50, 1)        0           dropout_9[0][0]                  \n",
            "__________________________________________________________________________________________________\n",
            "multiply (Multiply)             (None, 50, 50)       0           reshape_1[0][0]                  \n",
            "                                                                 reshape_3[0][0]                  \n",
            "__________________________________________________________________________________________________\n",
            "flatten (Flatten)               (None, 2500)         0           multiply[0][0]                   \n",
            "__________________________________________________________________________________________________\n",
            "dense (Dense)                   (None, 11)           27511       flatten[0][0]                    \n",
            "==================================================================================================\n",
            "Total params: 1,157,031\n",
            "Trainable params: 1,157,031\n",
            "Non-trainable params: 0\n",
            "__________________________________________________________________________________________________\n"
          ],
          "name": "stdout"
        }
      ]
    },
    {
      "cell_type": "code",
      "metadata": {
        "id": "NnGkE2IRhSiV",
        "colab": {
          "base_uri": "https://localhost:8080/"
        },
        "outputId": "a487e7c3-2b93-4c3b-fddc-b0c2623c596e"
      },
      "source": [
        "history = newModel.fit([X_train_ap,X_train_iq],\n",
        "                    Y_train,\n",
        "                    batch_size=1024,\n",
        "                    epochs=100,\n",
        "                    verbose=1, use_multiprocessing = True,\n",
        "                    validation_data=([X_test_ap,X_test_iq],Y_test))"
      ],
      "execution_count": 32,
      "outputs": [
        {
          "output_type": "stream",
          "text": [
            "Epoch 1/100\n",
            "108/108 [==============================] - 106s 615ms/step - loss: 2.2901 - accuracy: 0.1392 - val_loss: 2.0781 - val_accuracy: 0.2243\n",
            "Epoch 2/100\n",
            "108/108 [==============================] - 66s 612ms/step - loss: 2.0658 - accuracy: 0.2244 - val_loss: 1.9507 - val_accuracy: 0.2544\n",
            "Epoch 3/100\n",
            "108/108 [==============================] - 66s 608ms/step - loss: 1.9718 - accuracy: 0.2568 - val_loss: 1.7892 - val_accuracy: 0.3201\n",
            "Epoch 4/100\n",
            "108/108 [==============================] - 65s 607ms/step - loss: 1.8372 - accuracy: 0.3066 - val_loss: 1.7067 - val_accuracy: 0.3441\n",
            "Epoch 5/100\n",
            "108/108 [==============================] - 65s 607ms/step - loss: 1.7427 - accuracy: 0.3325 - val_loss: 1.6593 - val_accuracy: 0.3467\n",
            "Epoch 6/100\n",
            "108/108 [==============================] - 65s 606ms/step - loss: 1.6950 - accuracy: 0.3429 - val_loss: 1.5759 - val_accuracy: 0.3756\n",
            "Epoch 7/100\n",
            "108/108 [==============================] - 65s 606ms/step - loss: 1.5912 - accuracy: 0.3734 - val_loss: 1.5244 - val_accuracy: 0.3946\n",
            "Epoch 8/100\n",
            "108/108 [==============================] - 65s 606ms/step - loss: 1.5517 - accuracy: 0.3827 - val_loss: 1.5114 - val_accuracy: 0.3979\n",
            "Epoch 9/100\n",
            "108/108 [==============================] - 65s 606ms/step - loss: 1.5335 - accuracy: 0.3874 - val_loss: 1.5063 - val_accuracy: 0.4009\n",
            "Epoch 10/100\n",
            "108/108 [==============================] - 65s 606ms/step - loss: 1.5186 - accuracy: 0.3947 - val_loss: 1.5034 - val_accuracy: 0.3976\n",
            "Epoch 11/100\n",
            "108/108 [==============================] - 65s 605ms/step - loss: 1.5084 - accuracy: 0.3981 - val_loss: 1.4706 - val_accuracy: 0.4083\n",
            "Epoch 12/100\n",
            "108/108 [==============================] - 65s 604ms/step - loss: 1.4965 - accuracy: 0.4011 - val_loss: 1.4695 - val_accuracy: 0.4123\n",
            "Epoch 13/100\n",
            "108/108 [==============================] - 65s 606ms/step - loss: 1.4940 - accuracy: 0.4010 - val_loss: 1.4662 - val_accuracy: 0.4186\n",
            "Epoch 14/100\n",
            "108/108 [==============================] - 65s 605ms/step - loss: 1.4830 - accuracy: 0.4072 - val_loss: 1.4554 - val_accuracy: 0.4149\n",
            "Epoch 15/100\n",
            "108/108 [==============================] - 65s 606ms/step - loss: 1.4755 - accuracy: 0.4129 - val_loss: 1.4442 - val_accuracy: 0.4268\n",
            "Epoch 16/100\n",
            "108/108 [==============================] - 65s 604ms/step - loss: 1.4655 - accuracy: 0.4164 - val_loss: 1.4855 - val_accuracy: 0.4098\n",
            "Epoch 17/100\n",
            "108/108 [==============================] - 65s 605ms/step - loss: 1.4851 - accuracy: 0.4128 - val_loss: 1.4334 - val_accuracy: 0.4275\n",
            "Epoch 18/100\n",
            "108/108 [==============================] - 65s 604ms/step - loss: 1.4530 - accuracy: 0.4220 - val_loss: 1.4225 - val_accuracy: 0.4361\n",
            "Epoch 19/100\n",
            "108/108 [==============================] - 65s 605ms/step - loss: 1.4441 - accuracy: 0.4281 - val_loss: 1.4122 - val_accuracy: 0.4328\n",
            "Epoch 20/100\n",
            "108/108 [==============================] - 65s 605ms/step - loss: 1.4413 - accuracy: 0.4273 - val_loss: 1.4119 - val_accuracy: 0.4392\n",
            "Epoch 21/100\n",
            "108/108 [==============================] - 65s 605ms/step - loss: 1.4364 - accuracy: 0.4282 - val_loss: 1.4122 - val_accuracy: 0.4410\n",
            "Epoch 22/100\n",
            "108/108 [==============================] - 65s 605ms/step - loss: 1.4233 - accuracy: 0.4338 - val_loss: 1.3973 - val_accuracy: 0.4445\n",
            "Epoch 23/100\n",
            "108/108 [==============================] - 65s 606ms/step - loss: 1.4157 - accuracy: 0.4342 - val_loss: 1.3870 - val_accuracy: 0.4451\n",
            "Epoch 24/100\n",
            "108/108 [==============================] - 65s 607ms/step - loss: 1.4095 - accuracy: 0.4385 - val_loss: 1.3744 - val_accuracy: 0.4539\n",
            "Epoch 25/100\n",
            "108/108 [==============================] - 66s 608ms/step - loss: 1.4006 - accuracy: 0.4433 - val_loss: 1.3657 - val_accuracy: 0.4574\n",
            "Epoch 26/100\n",
            "108/108 [==============================] - 65s 607ms/step - loss: 1.3915 - accuracy: 0.4479 - val_loss: 1.3826 - val_accuracy: 0.4581\n",
            "Epoch 27/100\n",
            "108/108 [==============================] - 65s 607ms/step - loss: 1.3850 - accuracy: 0.4503 - val_loss: 1.3743 - val_accuracy: 0.4563\n",
            "Epoch 28/100\n",
            "108/108 [==============================] - 66s 608ms/step - loss: 1.3810 - accuracy: 0.4503 - val_loss: 1.3511 - val_accuracy: 0.4637\n",
            "Epoch 29/100\n",
            "108/108 [==============================] - 65s 607ms/step - loss: 1.3666 - accuracy: 0.4547 - val_loss: 1.3644 - val_accuracy: 0.4620\n",
            "Epoch 30/100\n",
            "108/108 [==============================] - 65s 607ms/step - loss: 1.3591 - accuracy: 0.4576 - val_loss: 1.3366 - val_accuracy: 0.4674\n",
            "Epoch 31/100\n",
            "108/108 [==============================] - 65s 606ms/step - loss: 1.3614 - accuracy: 0.4568 - val_loss: 1.3416 - val_accuracy: 0.4673\n",
            "Epoch 32/100\n",
            "108/108 [==============================] - 65s 607ms/step - loss: 1.3453 - accuracy: 0.4618 - val_loss: 1.3439 - val_accuracy: 0.4676\n",
            "Epoch 33/100\n",
            "108/108 [==============================] - 65s 607ms/step - loss: 1.3546 - accuracy: 0.4609 - val_loss: 1.3282 - val_accuracy: 0.4695\n",
            "Epoch 34/100\n",
            "108/108 [==============================] - 65s 608ms/step - loss: 1.3421 - accuracy: 0.4650 - val_loss: 1.3260 - val_accuracy: 0.4702\n",
            "Epoch 35/100\n",
            "108/108 [==============================] - 65s 607ms/step - loss: 1.3413 - accuracy: 0.4638 - val_loss: 1.3504 - val_accuracy: 0.4686\n",
            "Epoch 36/100\n",
            "108/108 [==============================] - 65s 607ms/step - loss: 1.3422 - accuracy: 0.4643 - val_loss: 1.3322 - val_accuracy: 0.4722\n",
            "Epoch 37/100\n",
            "108/108 [==============================] - 65s 607ms/step - loss: 1.3381 - accuracy: 0.4670 - val_loss: 1.3337 - val_accuracy: 0.4687\n",
            "Epoch 38/100\n",
            "108/108 [==============================] - 66s 608ms/step - loss: 1.3366 - accuracy: 0.4647 - val_loss: 1.3304 - val_accuracy: 0.4701\n",
            "Epoch 39/100\n",
            "108/108 [==============================] - 65s 607ms/step - loss: 1.3388 - accuracy: 0.4656 - val_loss: 1.3338 - val_accuracy: 0.4700\n",
            "Epoch 40/100\n",
            "108/108 [==============================] - 65s 608ms/step - loss: 1.3567 - accuracy: 0.4549 - val_loss: 1.3488 - val_accuracy: 0.4673\n",
            "Epoch 41/100\n",
            "108/108 [==============================] - 65s 608ms/step - loss: 1.3381 - accuracy: 0.4638 - val_loss: 1.3253 - val_accuracy: 0.4628\n",
            "Epoch 42/100\n",
            "108/108 [==============================] - 65s 606ms/step - loss: 1.3366 - accuracy: 0.4657 - val_loss: 1.3536 - val_accuracy: 0.4699\n",
            "Epoch 43/100\n",
            "108/108 [==============================] - 65s 606ms/step - loss: 1.3337 - accuracy: 0.4663 - val_loss: 1.3294 - val_accuracy: 0.4735\n",
            "Epoch 44/100\n",
            "108/108 [==============================] - 65s 606ms/step - loss: 1.3293 - accuracy: 0.4685 - val_loss: 1.3227 - val_accuracy: 0.4750\n",
            "Epoch 45/100\n",
            "108/108 [==============================] - 65s 607ms/step - loss: 1.3240 - accuracy: 0.4673 - val_loss: 1.3392 - val_accuracy: 0.4740\n",
            "Epoch 46/100\n",
            "108/108 [==============================] - 66s 608ms/step - loss: 1.3220 - accuracy: 0.4710 - val_loss: 1.3107 - val_accuracy: 0.4727\n",
            "Epoch 47/100\n",
            "108/108 [==============================] - 65s 606ms/step - loss: 1.3172 - accuracy: 0.4726 - val_loss: 1.3182 - val_accuracy: 0.4753\n",
            "Epoch 48/100\n",
            "108/108 [==============================] - 65s 607ms/step - loss: 1.3250 - accuracy: 0.4726 - val_loss: 1.3307 - val_accuracy: 0.4719\n",
            "Epoch 49/100\n",
            "108/108 [==============================] - 65s 606ms/step - loss: 1.3215 - accuracy: 0.4713 - val_loss: 1.3244 - val_accuracy: 0.4758\n",
            "Epoch 50/100\n",
            "108/108 [==============================] - 65s 608ms/step - loss: 1.3157 - accuracy: 0.4716 - val_loss: 1.3075 - val_accuracy: 0.4762\n",
            "Epoch 51/100\n",
            "108/108 [==============================] - 65s 606ms/step - loss: 1.3179 - accuracy: 0.4718 - val_loss: 1.3129 - val_accuracy: 0.4769\n",
            "Epoch 52/100\n",
            "108/108 [==============================] - 65s 607ms/step - loss: 1.3139 - accuracy: 0.4764 - val_loss: 1.3085 - val_accuracy: 0.4809\n",
            "Epoch 53/100\n",
            "108/108 [==============================] - 65s 606ms/step - loss: 1.3123 - accuracy: 0.4760 - val_loss: 1.3188 - val_accuracy: 0.4779\n",
            "Epoch 54/100\n",
            "108/108 [==============================] - 65s 607ms/step - loss: 1.3131 - accuracy: 0.4769 - val_loss: 1.3037 - val_accuracy: 0.4783\n",
            "Epoch 55/100\n",
            "108/108 [==============================] - 65s 607ms/step - loss: 1.3023 - accuracy: 0.4783 - val_loss: 1.3074 - val_accuracy: 0.4821\n",
            "Epoch 56/100\n",
            "108/108 [==============================] - 65s 607ms/step - loss: 1.3042 - accuracy: 0.4795 - val_loss: 1.3090 - val_accuracy: 0.4799\n",
            "Epoch 57/100\n",
            "108/108 [==============================] - 65s 608ms/step - loss: 1.3018 - accuracy: 0.4790 - val_loss: 1.2964 - val_accuracy: 0.4873\n",
            "Epoch 58/100\n",
            "108/108 [==============================] - 66s 608ms/step - loss: 1.3003 - accuracy: 0.4830 - val_loss: 1.3089 - val_accuracy: 0.4821\n",
            "Epoch 59/100\n",
            "108/108 [==============================] - 65s 606ms/step - loss: 1.3030 - accuracy: 0.4812 - val_loss: 1.3046 - val_accuracy: 0.4876\n",
            "Epoch 60/100\n",
            "108/108 [==============================] - 65s 607ms/step - loss: 1.2997 - accuracy: 0.4842 - val_loss: 1.3079 - val_accuracy: 0.4843\n",
            "Epoch 61/100\n",
            "108/108 [==============================] - 65s 608ms/step - loss: 1.2980 - accuracy: 0.4837 - val_loss: 1.3022 - val_accuracy: 0.4921\n",
            "Epoch 62/100\n",
            "108/108 [==============================] - 65s 606ms/step - loss: 1.2884 - accuracy: 0.4909 - val_loss: 1.2906 - val_accuracy: 0.4966\n",
            "Epoch 63/100\n",
            "108/108 [==============================] - 65s 607ms/step - loss: 1.2848 - accuracy: 0.4938 - val_loss: 1.2972 - val_accuracy: 0.4954\n",
            "Epoch 64/100\n",
            "108/108 [==============================] - 66s 608ms/step - loss: 1.2845 - accuracy: 0.4967 - val_loss: 1.2954 - val_accuracy: 0.5011\n",
            "Epoch 65/100\n",
            "108/108 [==============================] - 65s 608ms/step - loss: 1.2853 - accuracy: 0.4957 - val_loss: 1.2832 - val_accuracy: 0.5078\n",
            "Epoch 66/100\n",
            "108/108 [==============================] - 65s 607ms/step - loss: 1.2764 - accuracy: 0.5021 - val_loss: 1.2738 - val_accuracy: 0.5129\n",
            "Epoch 67/100\n",
            "108/108 [==============================] - 65s 607ms/step - loss: 1.2690 - accuracy: 0.5085 - val_loss: 1.2605 - val_accuracy: 0.5064\n",
            "Epoch 68/100\n",
            "108/108 [==============================] - 65s 607ms/step - loss: 1.2655 - accuracy: 0.5107 - val_loss: 1.2793 - val_accuracy: 0.5095\n",
            "Epoch 69/100\n",
            "108/108 [==============================] - 65s 607ms/step - loss: 1.2630 - accuracy: 0.5124 - val_loss: 1.2542 - val_accuracy: 0.5194\n",
            "Epoch 70/100\n",
            "108/108 [==============================] - 65s 607ms/step - loss: 1.2606 - accuracy: 0.5149 - val_loss: 1.2479 - val_accuracy: 0.5245\n",
            "Epoch 71/100\n",
            "108/108 [==============================] - 65s 607ms/step - loss: 1.2453 - accuracy: 0.5185 - val_loss: 1.2513 - val_accuracy: 0.5233\n",
            "Epoch 72/100\n",
            "108/108 [==============================] - 65s 607ms/step - loss: 1.2513 - accuracy: 0.5206 - val_loss: 1.2448 - val_accuracy: 0.5255\n",
            "Epoch 73/100\n",
            "108/108 [==============================] - 66s 609ms/step - loss: 1.2421 - accuracy: 0.5234 - val_loss: 1.2339 - val_accuracy: 0.5278\n",
            "Epoch 74/100\n",
            "108/108 [==============================] - 65s 607ms/step - loss: 1.2369 - accuracy: 0.5237 - val_loss: 1.2396 - val_accuracy: 0.5256\n",
            "Epoch 75/100\n",
            "108/108 [==============================] - 66s 608ms/step - loss: 1.2355 - accuracy: 0.5249 - val_loss: 1.2358 - val_accuracy: 0.5318\n",
            "Epoch 76/100\n",
            "108/108 [==============================] - 65s 607ms/step - loss: 1.2325 - accuracy: 0.5288 - val_loss: 1.2310 - val_accuracy: 0.5333\n",
            "Epoch 77/100\n",
            "108/108 [==============================] - 66s 609ms/step - loss: 1.2297 - accuracy: 0.5291 - val_loss: 1.2289 - val_accuracy: 0.5344\n",
            "Epoch 78/100\n",
            "108/108 [==============================] - 66s 608ms/step - loss: 1.2266 - accuracy: 0.5288 - val_loss: 1.2217 - val_accuracy: 0.5383\n",
            "Epoch 79/100\n",
            "108/108 [==============================] - 65s 607ms/step - loss: 1.2298 - accuracy: 0.5306 - val_loss: 1.2274 - val_accuracy: 0.5350\n",
            "Epoch 80/100\n",
            "108/108 [==============================] - 65s 607ms/step - loss: 1.2269 - accuracy: 0.5276 - val_loss: 1.2278 - val_accuracy: 0.5331\n",
            "Epoch 81/100\n",
            "108/108 [==============================] - 66s 608ms/step - loss: 1.2259 - accuracy: 0.5314 - val_loss: 1.2321 - val_accuracy: 0.5345\n",
            "Epoch 82/100\n",
            "108/108 [==============================] - 65s 607ms/step - loss: 1.2179 - accuracy: 0.5368 - val_loss: 1.2170 - val_accuracy: 0.5396\n",
            "Epoch 83/100\n",
            "108/108 [==============================] - 65s 607ms/step - loss: 1.2131 - accuracy: 0.5355 - val_loss: 1.2146 - val_accuracy: 0.5402\n",
            "Epoch 84/100\n",
            "108/108 [==============================] - 65s 606ms/step - loss: 1.2114 - accuracy: 0.5376 - val_loss: 1.2170 - val_accuracy: 0.5400\n",
            "Epoch 85/100\n",
            "108/108 [==============================] - 65s 606ms/step - loss: 1.2123 - accuracy: 0.5362 - val_loss: 1.2175 - val_accuracy: 0.5384\n",
            "Epoch 86/100\n",
            "108/108 [==============================] - 65s 605ms/step - loss: 1.2072 - accuracy: 0.5381 - val_loss: 1.2302 - val_accuracy: 0.5388\n",
            "Epoch 87/100\n",
            "108/108 [==============================] - 65s 607ms/step - loss: 1.2106 - accuracy: 0.5371 - val_loss: 1.2212 - val_accuracy: 0.5403\n",
            "Epoch 88/100\n",
            "108/108 [==============================] - 65s 606ms/step - loss: 1.2041 - accuracy: 0.5401 - val_loss: 1.2011 - val_accuracy: 0.5437\n",
            "Epoch 89/100\n",
            "108/108 [==============================] - 65s 606ms/step - loss: 1.1974 - accuracy: 0.5427 - val_loss: 1.2300 - val_accuracy: 0.5367\n",
            "Epoch 90/100\n",
            "108/108 [==============================] - 65s 606ms/step - loss: 1.2050 - accuracy: 0.5408 - val_loss: 1.2157 - val_accuracy: 0.5404\n",
            "Epoch 91/100\n",
            "108/108 [==============================] - 65s 605ms/step - loss: 1.2030 - accuracy: 0.5411 - val_loss: 1.2041 - val_accuracy: 0.5381\n",
            "Epoch 92/100\n",
            "108/108 [==============================] - 65s 606ms/step - loss: 1.1922 - accuracy: 0.5467 - val_loss: 1.2074 - val_accuracy: 0.5427\n",
            "Epoch 93/100\n",
            "108/108 [==============================] - 65s 605ms/step - loss: 1.1921 - accuracy: 0.5448 - val_loss: 1.1938 - val_accuracy: 0.5463\n",
            "Epoch 94/100\n",
            "108/108 [==============================] - 65s 606ms/step - loss: 1.1959 - accuracy: 0.5446 - val_loss: 1.2024 - val_accuracy: 0.5453\n",
            "Epoch 95/100\n",
            "108/108 [==============================] - 65s 606ms/step - loss: 1.2018 - accuracy: 0.5403 - val_loss: 1.2167 - val_accuracy: 0.5419\n",
            "Epoch 96/100\n",
            "108/108 [==============================] - 65s 607ms/step - loss: 1.1924 - accuracy: 0.5470 - val_loss: 1.1974 - val_accuracy: 0.5476\n",
            "Epoch 97/100\n",
            "108/108 [==============================] - 65s 605ms/step - loss: 1.1962 - accuracy: 0.5450 - val_loss: 1.2061 - val_accuracy: 0.5457\n",
            "Epoch 98/100\n",
            "108/108 [==============================] - 65s 605ms/step - loss: 1.2025 - accuracy: 0.5408 - val_loss: 1.1981 - val_accuracy: 0.5446\n",
            "Epoch 99/100\n",
            "108/108 [==============================] - 65s 605ms/step - loss: 1.1924 - accuracy: 0.5450 - val_loss: 1.1977 - val_accuracy: 0.5456\n",
            "Epoch 100/100\n",
            "108/108 [==============================] - 65s 605ms/step - loss: 1.1857 - accuracy: 0.5480 - val_loss: 1.2112 - val_accuracy: 0.5441\n"
          ],
          "name": "stdout"
        }
      ]
    },
    {
      "cell_type": "code",
      "metadata": {
        "id": "wduDi8yvZxvu",
        "colab": {
          "base_uri": "https://localhost:8080/",
          "height": 298
        },
        "outputId": "ecaef822-d7b7-40c1-d74b-65364962a051"
      },
      "source": [
        "# Show loss curves\n",
        "plt.figure()\n",
        "plt.title('Training performance')\n",
        "plt.plot(history.epoch, history.history['loss'], label='train loss+error')\n",
        "plt.plot(history.epoch, history.history['val_loss'], label='val_error')\n",
        "plt.legend()"
      ],
      "execution_count": 33,
      "outputs": [
        {
          "output_type": "execute_result",
          "data": {
            "text/plain": [
              "<matplotlib.legend.Legend at 0x7fbd353b91d0>"
            ]
          },
          "metadata": {
            "tags": []
          },
          "execution_count": 33
        },
        {
          "output_type": "display_data",
          "data": {
            "image/png": "[encoded data removed]",
            "text/plain": [
              "<Figure size 432x288 with 1 Axes>"
            ]
          },
          "metadata": {
            "tags": [],
            "needs_background": "light"
          }
        }
      ]
    },
    {
      "cell_type": "code",
      "metadata": {
        "id": "y_BYqUTNZ3Z9",
        "colab": {
          "base_uri": "https://localhost:8080/"
        },
        "outputId": "8918801a-8f4f-4bb6-fde5-e69cf204044d"
      },
      "source": [
        "acc = {}\n",
        "for snr in snrs:\n",
        "  # extract classes @ SNR\n",
        "  test_SNRs = list(map(lambda x: lbl[x][1], test_idx))\n",
        "  test_X_i_ap = X_test_ap[np.where(np.array(test_SNRs)==snr)]\n",
        "  test_X_i_iq = X_test_iq[np.where(np.array(test_SNRs)==snr)]\n",
        "  test_Y_i = Y_test[np.where(np.array(test_SNRs)==snr)]\n",
        "  # estimate classes\n",
        "  test_Y_i_hat = newModel.predict([test_X_i_ap,test_X_i_iq])\n",
        "  conf = np.zeros([len(classes),len(classes)])\n",
        "  confnorm = np.zeros([len(classes),len(classes)])\n",
        "  for i in range(0,test_X_i_ap.shape[0]):\n",
        "    j = list(test_Y_i[i,:]).index(1)\n",
        "    k = int(np.argmax(test_Y_i_hat[i,:]))\n",
        "    conf[j,k] = conf[j,k] + 1\n",
        "\n",
        "  for i in range(0,len(classes)):\n",
        "    confnorm[i,:] = conf[i,:] / np.sum(conf[i,:])\n",
        "\n",
        "  #plt.figure()\n",
        "  #plot_confusion_matrix(confnorm, labels=classes, title=\"ConvNet Confusion Matrix (SNR=%d)\"%(snr))\n",
        "  cor = np.sum(np.diag(conf))\n",
        "  ncor = np.sum(conf) - cor\n",
        "  print(\"SNR: \",snr, \" Overall Accuracy: \", cor / (cor + ncor))\n",
        "  acc[snr] = 1.0 * cor / (cor + ncor)"
      ],
      "execution_count": null,
      "outputs": [
        {
          "output_type": "stream",
          "text": [
            "SNR:  -20  Overall Accuracy:  0.09771271729185728\n",
            "SNR:  -18  Overall Accuracy:  0.09336966394187103\n"
          ],
          "name": "stdout"
        }
      ]
    },
    {
      "cell_type": "code",
      "metadata": {
        "colab": {
          "base_uri": "https://localhost:8080/"
        },
        "id": "efhfq_XTXiaI",
        "outputId": "ac9d5449-186d-4327-bda3-e3ac6ea6f18e"
      },
      "source": [
        "test_Y_i.shape"
      ],
      "execution_count": 52,
      "outputs": [
        {
          "output_type": "execute_result",
          "data": {
            "text/plain": [
              "(5443, 11)"
            ]
          },
          "metadata": {
            "tags": []
          },
          "execution_count": 52
        }
      ]
    },
    {
      "cell_type": "code",
      "metadata": {
        "id": "sNklHJ4fZ7Nb"
      },
      "source": [
        "print(acc)\n",
        "fd = open('results_cnn_d0.5.dat','wb')\n",
        "pickle.dump( (\"CNN\", 0.5, acc) , fd )\n",
        "\n",
        "# Plot accuracy curve\n",
        "plt.plot(snrs, list(map(lambda x: acc[x], snrs)))\n",
        "plt.xlabel(\"Signal to Noise Ratio\")\n",
        "plt.ylabel(\"Classification Accuracy\")\n",
        "plt.title(\"New Model Classification Accuracy on RadioML 2016.10 Alpha\")\n",
        "plt.show()"
      ],
      "execution_count": null,
      "outputs": []
    },
    {
      "cell_type": "code",
      "metadata": {
        "id": "Fawy65TdaAeU",
        "colab": {
          "base_uri": "https://localhost:8080/",
          "height": 566
        },
        "outputId": "45b36223-3060-425a-e3ad-b4ce3910f462"
      },
      "source": [
        "def plot_confusion_matrix(cm, title='Confusion matrix', cmap=plt.cm.Blues, labels=[]):\n",
        "    plt.imshow(cm, interpolation='nearest', cmap=cmap)\n",
        "    plt.title(title)\n",
        "    plt.colorbar()\n",
        "    tick_marks = np.arange(len(labels))\n",
        "    plt.xticks(tick_marks, labels, rotation=45)\n",
        "    plt.yticks(tick_marks, labels)\n",
        "    plt.tight_layout()\n",
        "    plt.ylabel('True label')\n",
        "    plt.xlabel('Predicted label')\n",
        "    plt.show()\n",
        "\n",
        "\n",
        "test_Y_hat = newModel.predict([X_test_ap,X_test_iq], batch_size=1024)\n",
        "conf = np.zeros([len(classes),len(classes)])\n",
        "confnorm = np.zeros([len(classes),len(classes)])\n",
        "for i in range(0,X_test.shape[0]):\n",
        "    j = list(Y_test[i,:]).index(1)\n",
        "    k = int(np.argmax(test_Y_hat[i,:]))\n",
        "    conf[j,k] = conf[j,k] + 1\n",
        "for i in range(0,len(classes)):\n",
        "    confnorm[i,:] = conf[i,:] / np.sum(conf[i,:])\n",
        "\n",
        "plt.figure(num=None, figsize=(7, 7), dpi=80, facecolor='w', edgecolor='black')\n",
        "plot_confusion_matrix(confnorm, labels=classes)"
      ],
      "execution_count": 40,
      "outputs": [
        {
          "output_type": "display_data",
          "data": {
            "image/png": "[encoded data removed]",
            "text/plain": [
              "<Figure size 560x560 with 2 Axes>"
            ]
          },
          "metadata": {
            "tags": []
          }
        }
      ]
    },
    {
      "cell_type": "markdown",
      "metadata": {
        "id": "PnpSMEPr9_zr"
      },
      "source": [
        "# Updated(DeviJi)"
      ]
    },
    {
      "cell_type": "code",
      "metadata": {
        "id": "D-9Txbnt9-Xz"
      },
      "source": [
        "import numpy as np\n",
        "import os\n",
        "os.environ[\"KERAS_BACKEND\"] = \"tensorflow\"\n",
        "import keras\n",
        "from keras.utils import np_utils\n",
        "import keras.models as models\n",
        "from keras.layers.core import Reshape,Dense,Dropout,Activation,Flatten\n",
        "from keras.layers.convolutional import Conv2D, MaxPooling2D, ZeroPadding2D\n",
        "from keras.regularizers import *\n",
        "from keras.optimizers import Adam\n",
        "import tensorflow as tf\n",
        "from sklearn.metrics import confusion_matrix\n",
        "import matplotlib\n",
        "matplotlib.use('Agg')\n",
        "import pickle\n",
        "import matplotlib.pyplot as plt\n",
        "import sys\n",
        "import operator\n",
        "from numpy import linalg as la \n",
        "from math import ceil\n",
        "##from keras.utils import multi_gpu_model\n",
        "from keras import backend as K"
      ],
      "execution_count": null,
      "outputs": []
    },
    {
      "cell_type": "code",
      "metadata": {
        "id": "SaIRVBCg-Oaj"
      },
      "source": [
        "import matplotlib.pyplot as plt\n",
        "from matplotlib.pyplot import figure\n",
        "import seaborn as sns\n"
      ],
      "execution_count": null,
      "outputs": []
    },
    {
      "cell_type": "code",
      "metadata": {
        "id": "T7Ox10T4-Qs3"
      },
      "source": [
        "#Mounting Google Drive\n",
        "from google.colab import drive\n",
        "drive.mount('/content/drive')"
      ],
      "execution_count": null,
      "outputs": []
    },
    {
      "cell_type": "code",
      "metadata": {
        "id": "VqNvrE_Q-vAv"
      },
      "source": [
        "# import modules\n",
        "from IPython.display import display, clear_output\n",
        "import numpy as np\n",
        "import os\n",
        "# import deep learning libraries\n",
        "import os\n",
        "import keras\n",
        "import pickle\n",
        "from keras import layers\n",
        "from keras.utils import to_categorical\n",
        "from keras.models import Model, load_model\n",
        "from keras.initializers import glorot_uniform\n",
        "from keras.layers import Input, Dropout, Add, Dense, Reshape, Activation\n",
        "from keras.layers import BatchNormalization, Flatten, Conv1D, MaxPooling1D"
      ],
      "execution_count": null,
      "outputs": []
    },
    {
      "cell_type": "code",
      "metadata": {
        "id": "lw7iXHLG-wwS"
      },
      "source": [
        "import os,random\n",
        "os.environ[\"KERAS_BACKEND\"] = \"tensorflow\"\n",
        "from tensorflow.keras import layers\n",
        "import numpy as np\n",
        "from keras.utils import np_utils\n",
        "import keras.models as models\n",
        "from keras.layers.core import Reshape,Dense,Dropout,Activation,Flatten\n",
        "from keras.layers.noise import GaussianNoise\n",
        "from keras.layers.convolutional import Conv2D, MaxPooling2D, ZeroPadding2D\n",
        "from keras.regularizers import *\n",
        "from tensorflow.python.keras.optimizer_v2.adam import Adam\n",
        "import matplotlib.pyplot as plt\n",
        "from matplotlib.pyplot import figure\n",
        "import seaborn as sns\n",
        "import pickle, random, sys, keras\n",
        "import h5py"
      ],
      "execution_count": null,
      "outputs": []
    },
    {
      "cell_type": "code",
      "metadata": {
        "id": "x623aOd6-zlL"
      },
      "source": [
        "maxlen = 128 # change subnyq sampling rate HERE.\n",
        "\n",
        "def gendata(fp, nsamples):\n",
        "    global snrs, mods, train_idx, test_idx, lbl\n",
        "    with open(fp, 'rb') as f:\n",
        "      Xd = pickle.load(f, encoding='latin1')\n",
        "    \n",
        "    snrs,mods = map(lambda j: sorted(list(set(map(lambda x: x[j], Xd.keys())))), [1,0])\n",
        "    X = []  \n",
        "    lbl = []\n",
        "    for mod in mods:\n",
        "      for snr in snrs:\n",
        "        X.append(Xd[(mod, snr)])\n",
        "        for i in range(Xd[(mod, snr)].shape[0]):\n",
        "          lbl.append((mod, snr))\n",
        "    X = np.vstack(X)\n",
        "    \n",
        "    print('Length of lbl', len(lbl))\n",
        "    print('shape of X', X.shape)\n",
        "\n",
        "    np.random.seed(2016)\n",
        "    n_example = X.shape[0]\n",
        "    n_train = n_example * 0.5\n",
        "    train_idx = np.random.choice(range(0,n_example), size=int(n_train), replace=False)\n",
        "    test_idx = list(set(range(0, n_example)) - set(train_idx))\n",
        "    X_train = X[train_idx]\n",
        "    X_test =  X[test_idx]\n",
        "    \n",
        "    def to_onehot(vec):\n",
        "      vec_hot = np.zeros([len(vec), max(vec) + 1])\n",
        "      vec_hot[np.arange(len(vec)), vec] = 1\n",
        "      return vec_hot\n",
        "    \n",
        "    Y_train = to_onehot(list(map(lambda x: mods.index(lbl[x][0]), train_idx)))\n",
        "    Y_test = to_onehot(list(map(lambda x: mods.index(lbl[x][0]), test_idx)))\n",
        "\n",
        "    return (X_train,X_test,Y_train,Y_test)\n",
        "\n",
        "def norm_pad_zeros(X_train,nsamples):\n",
        "    print (\"Pad:\", X_train.shape)\n",
        "    for i in range(X_train.shape[0]):\n",
        "        X_train[i,:,0] = X_train[i,:,0]/la.norm(X_train[i,:,0],2)\n",
        "    return X_train\n",
        "\n",
        "\n",
        "def to_amp_phase(X_train,X_test,nsamples):\n",
        "    X_train_cmplx = X_train[:,0,:] + 1j* X_train[:,1,:]\n",
        "    X_test_cmplx = X_test[:,0,:] + 1j* X_test[:,1,:]\n",
        "    \n",
        "    X_train_amp = np.abs(X_train_cmplx)\n",
        "    X_train_ang = np.arctan2(X_train[:,1,:],X_train[:,0,:])/np.pi\n",
        "  \n",
        "\n",
        "    X_train_amp = np.reshape(X_train_amp,(-1,1,nsamples))\n",
        "    X_train_ang = np.reshape(X_train_ang,(-1,1,nsamples))\n",
        "   \n",
        "    X_train = np.concatenate((X_train_amp,X_train_ang), axis=1) \n",
        "    X_train = np.transpose(np.array(X_train),(0,2,1))\n",
        "    \n",
        "    X_test_amp = np.abs(X_test_cmplx)\n",
        "    X_test_ang = np.arctan2(X_test[:,1,:],X_test[:,0,:])/np.pi\n",
        "    \n",
        "    \n",
        "    X_test_amp = np.reshape(X_test_amp,(-1,1,nsamples))\n",
        "    X_test_ang = np.reshape(X_test_ang,(-1,1,nsamples))\n",
        "    \n",
        "    X_test = np.concatenate((X_test_amp,X_test_ang), axis=1) \n",
        "    X_test = np.transpose(np.array(X_test),(0,2,1))\n",
        "\n",
        "    X_train = np.transpose(X_train,axes=(0,2,1))\n",
        "    X_test = np.transpose(X_test,axes=(0,2,1))\n",
        "    return (X_train, X_test)\n"
      ],
      "execution_count": null,
      "outputs": []
    },
    {
      "cell_type": "code",
      "metadata": {
        "id": "kRcph84r-1xk"
      },
      "source": [
        "xtrain1,xtest1,ytrain1,ytest1= gendata(\"/content/drive/My Drive/Colab Notebooks/DATA/Lavanya/RML2016.10a_dict.pickle.pkl\",maxlen)\n",
        "print(xtrain1.shape)\n",
        "print(ytrain1.shape)                \n",
        "#print('using version 10a dataset')\n",
        "#test_SNRs = map(lambda x: lbl[x][1], test_idx)\n",
        "#train_SNRs = map(lambda x: lbl[x][1], train_idx)\n",
        "#train_snr = lambda snr: xtrain1[np.where(np.array(train_SNRs)==snr)]\n",
        "#test_snr = lambda snr: ytrain1[np.where(np.array(train_SNRs)==snr)]\n"
      ],
      "execution_count": null,
      "outputs": []
    },
    {
      "cell_type": "code",
      "metadata": {
        "id": "qavYg_7f_DWE"
      },
      "source": [
        "print('length of X before to_amp_phase:', xtrain1.shape)\n",
        "X_train_ap,X_test_ap = to_amp_phase(xtrain1,xtest1,maxlen)\n",
        "print('length of X after to_amp_phase:', xtrain1.shape)\n",
        "X_train_iq, Y_train_iq = xtrain1, ytrain1\n",
        "X_test_iq, Y_test_iq = xtest1, ytest1\n",
        "Y_train_ap, Y_test_ap = ytrain1, ytest1"
      ],
      "execution_count": null,
      "outputs": []
    },
    {
      "cell_type": "code",
      "metadata": {
        "id": "LNXPYzgq_LQ3"
      },
      "source": [
        "print(\"--\"*50)\n",
        "print(\"Training data for 1st Stream: \",X_train_ap.shape)\n",
        "print(\"Training labels for 1st Stream: \",Y_train_ap.shape)\n",
        "print(\"Testing data for 1st Stream: \",X_test_ap.shape)\n",
        "print(\"Testing labels for 1st Stream: \",Y_test_ap.shape)\n",
        "print(\"--\"*50)\n",
        "print(\"Training data for 2nd Stream: \",X_train_iq.shape)\n",
        "print(\"Training labels for 2nd Stream :\",Y_train_iq.shape)\n",
        "print(\"Testing data for 2nd Stream :  \",X_test_iq.shape)\n",
        "print(\"Testing labels for 2nd Stream : \",Y_test_iq.shape)\n",
        "print(\"--\"*50)"
      ],
      "execution_count": null,
      "outputs": []
    },
    {
      "cell_type": "code",
      "metadata": {
        "id": "fV9JWfO2B937"
      },
      "source": [
        "X_train_ap=np.reshape(X_train_ap,(-1,2,128,1))\n",
        "X_test_ap=np.reshape(X_test_ap,(-1,2,128,1))\n",
        "X_train_iq=np.reshape(X_train_iq,(-1,2,128,1))\n",
        "X_test_iq=np.reshape(X_test_iq,(-1,2,128,1))"
      ],
      "execution_count": null,
      "outputs": []
    },
    {
      "cell_type": "code",
      "metadata": {
        "id": "J0Eh_JxiCrqq"
      },
      "source": [
        "dr=0.1"
      ],
      "execution_count": null,
      "outputs": []
    },
    {
      "cell_type": "code",
      "metadata": {
        "id": "yTxKW6Lm_3jH"
      },
      "source": [
        "model1 = Sequential()\n",
        "model1.add(ZeroPadding2D((0,2),input_shape=(X_train_ap.shape[1],X_train_ap.shape[2],X_train_ap.shape[3])))\n",
        "model1.add(Conv2D(50, (1, 8), padding='valid', activation=\"relu\", name=\"conv11\", kernel_initializer='glorot_uniform'))\n",
        "model1.add(Dropout(dr))\n",
        "model1.add(ZeroPadding2D((0, 2)))\n",
        "model1.add(Conv2D(50, (1, 8), padding='valid', activation=\"relu\", name=\"conv12\", kernel_initializer='glorot_uniform'))\n",
        "model1.add(Dropout(dr))\n",
        "model1.add(ZeroPadding2D((0, 2)))\n",
        "model1.add(Conv2D(50, (1, 8), padding='valid', activation=\"relu\", name=\"conv13\", kernel_initializer='glorot_uniform'))\n",
        "model1.add(Dropout(dr))\n",
        "model1.add(ZeroPadding2D((0, 2)))"
      ],
      "execution_count": null,
      "outputs": []
    },
    {
      "cell_type": "code",
      "metadata": {
        "id": "najfU-YQC3eH"
      },
      "source": [
        "layer11 = Conv2D(50, (1, 8), padding='valid', activation=\"relu\", name=\"conv11\", kernel_initializer='glorot_uniform'\n",
        "                 )(input_x_padding)\n",
        "layer11 = Dropout(dr)(layer11)\n",
        "\n",
        "layer11_padding = ZeroPadding2D((0, 2))(layer11)\n",
        "layer12 = Conv2D(50, (1, 8), padding=\"valid\", activation=\"relu\", name=\"conv12\", kernel_initializer='glorot_uniform'\n",
        "                )(layer11_padding)\n",
        "layer12 = Dropout(dr)(layer12)\n",
        "\n",
        "layer12 = ZeroPadding2D((0, 2))(layer12)\n",
        "layer13 = Conv2D(50, (1, 8), padding='valid', activation=\"relu\", name=\"conv13\", kernel_initializer='glorot_uniform'\n",
        "                 )(layer12)\n",
        "layer13 = Dropout(dr)(layer13)"
      ],
      "execution_count": null,
      "outputs": []
    },
    {
      "cell_type": "code",
      "metadata": {
        "id": "QmoSQ_NMDui-"
      },
      "source": [
        "#LSTM\n",
        "concat = keras.layers.concatenate([layer11, layer13],axis=2)\n",
        "concat_size = list(np.shape(concat))\n",
        "input_dim = int(concat_size[-1] * concat_size[-2])\n",
        "timesteps = int(concat_size[-3])\n",
        "# concat = np.reshape(concat, (-1,timesteps,input_dim))\n",
        "concat = Reshape((timesteps, input_dim))(concat)\n",
        "# 形如（samples，timesteps，input_dim）的3D张量\n",
        "lstm_out = LSTM(50, input_dim=input_dim, input_length=timesteps)(concat)"
      ],
      "execution_count": null,
      "outputs": []
    },
    {
      "cell_type": "code",
      "metadata": {
        "id": "S5VEInzGD3xr"
      },
      "source": [
        "print(input_dim,timesteps)"
      ],
      "execution_count": null,
      "outputs": []
    },
    {
      "cell_type": "code",
      "metadata": {
        "id": "RsKe_3lHD8xR"
      },
      "source": [
        "model1.add(Reshape((timesteps, 6150)))\n",
        "model1.add(LSTM(50, input_dim=input_dim, name=\"lstm1\",input_length=timesteps))\n",
        "model1.add(Dense(256, activation='relu', kernel_initializer='he_normal', name=\"dense1\"))\n",
        "model1.add(Dropout(dr))\n",
        "model1.add(Dense(11, activation='relu', kernel_initializer='he_normal', name=\"dense2\"))\n",
        "model1.add(Dense(11,activation='softmax'))\n",
        "model1.compile(optimizer = 'adam', loss = 'categorical_crossentropy',metrics=['accuracy'])\n",
        "model1.summary()"
      ],
      "execution_count": null,
      "outputs": []
    },
    {
      "cell_type": "code",
      "metadata": {
        "id": "3WQ2o3y5HXrj"
      },
      "source": [
        "filepath = \"dual_cnn_lstm_adi_%s_0.5.wts.h5\" "
      ],
      "execution_count": null,
      "outputs": []
    },
    {
      "cell_type": "code",
      "metadata": {
        "id": "Uugus72NHDKH"
      },
      "source": [
        "history = model1.fit(X_train_ap,\n",
        "                    Y_train_ap,\n",
        "                    batch_size=64,\n",
        "                    epochs=100,\n",
        "                    verbose=2,\n",
        "                    validation_data=(X_test_ap, Y_test_ap),\n",
        "                    callbacks=[  # 回调函数，https://keras-cn.readthedocs.io/en/latest/other/callbacks/\n",
        "                        keras.callbacks.ModelCheckpoint(filepath, monitor='val_loss', verbose=0, save_best_only=True,\n",
        "                                                        mode='auto'),\n",
        "                        keras.callbacks.EarlyStopping(monitor='val_loss', patience=5, verbose=0, mode='auto')\n",
        "                    ])  # EarlyStopping 当监测值不再改善时，该回调函数将中止训练，如去除本行将执行所有epoch\n"
      ],
      "execution_count": null,
      "outputs": []
    },
    {
      "cell_type": "code",
      "metadata": {
        "id": "PxKZz77_Hs0c"
      },
      "source": [
        "# Second Stream\n",
        "model2 = Sequential()\n",
        "model2.add(ZeroPadding2D((0,2),input_shape=(X_train_iq.shape[1],X_train_iq.shape[2],X_train_iq.shape[3])))\n",
        "model2.add(Conv2D(50, (1, 8), padding='valid', activation=\"relu\", name=\"conv11\", kernel_initializer='glorot_uniform'))\n",
        "model2.add(Dropout(dr))\n",
        "model2.add(ZeroPadding2D((0, 2)))\n",
        "model2.add(Conv2D(50, (1, 8), padding='valid', activation=\"relu\", name=\"conv12\", kernel_initializer='glorot_uniform'))\n",
        "model2.add(Dropout(dr))\n",
        "model2.add(ZeroPadding2D((0, 2)))\n",
        "model2.add(Conv2D(50, (1, 8), padding='valid', activation=\"relu\", name=\"conv13\", kernel_initializer='glorot_uniform'))\n",
        "model2.add(Dropout(dr))\n",
        "model2.add(ZeroPadding2D((0, 2)))\n",
        "\n",
        "layer11_iq = Conv2D(50, (1, 8), padding='valid', activation=\"relu\", name=\"conv11\", kernel_initializer='glorot_uniform'\n",
        "                 )(input_x_padding)\n",
        "layer11_iq = Dropout(dr)(layer11)\n",
        "\n",
        "layer11_padding_iq = ZeroPadding2D((0, 2))(layer11)\n",
        "layer12_iq = Conv2D(50, (1, 8), padding=\"valid\", activation=\"relu\", name=\"conv12\", kernel_initializer='glorot_uniform'\n",
        "                )(layer11_padding)\n",
        "layer12_iq = Dropout(dr)(layer12)\n",
        "\n",
        "layer12_iq = ZeroPadding2D((0, 2))(layer12)\n",
        "layer13_iq = Conv2D(50, (1, 8), padding='valid', activation=\"relu\", name=\"conv13\", kernel_initializer='glorot_uniform'\n",
        "                 )(layer12)\n",
        "layer13_iq = Dropout(dr)(layer13)\n",
        "\n",
        "#LSTM\n",
        "concat = keras.layers.concatenate([layer11_iq, layer13_iq],axis=2)\n",
        "concat_size = list(np.shape(concat))\n",
        "input_dim = int(concat_size[-1] * concat_size[-2])\n",
        "timesteps = int(concat_size[-3])\n",
        "# concat = np.reshape(concat, (-1,timesteps,input_dim))\n",
        "concat = Reshape((timesteps, input_dim))(concat)\n",
        "# 形如（samples，timesteps，input_dim）的3D张量\n",
        "lstm_out = LSTM(50, input_dim=input_dim, input_length=timesteps)(concat)\n",
        "\n",
        "model2.add(Reshape((timesteps, 6150)))\n",
        "model2.add(LSTM(50, input_dim=input_dim, name=\"lstm1\",input_length=timesteps))\n",
        "model2.add(Dense(256, activation='relu', kernel_initializer='he_normal', name=\"dense1\"))\n",
        "model2.add(Dropout(dr))\n",
        "model2.add(Dense(11, activation='relu', kernel_initializer='he_normal', name=\"dense2\"))\n",
        "model2.add(Dense(11,activation='softmax'))\n",
        "model2.compile(optimizer = 'adam', loss = 'categorical_crossentropy',metrics=['accuracy'])\n",
        "model2.summary()"
      ],
      "execution_count": null,
      "outputs": []
    },
    {
      "cell_type": "code",
      "metadata": {
        "id": "uHVJlbUYIgTE"
      },
      "source": [
        "filepath = \"dual_iq__cnn_lstm_adi_%s_0.5.wts.h5\" \n",
        "history = model1.fit(X_train_iq,\n",
        "                    Y_train_iq,\n",
        "                    batch_size=64,\n",
        "                    epochs=100,\n",
        "                    verbose=2,\n",
        "                    validation_data=(X_test_iq, Y_test_iq),\n",
        "                    callbacks=[  # 回调函数，https://keras-cn.readthedocs.io/en/latest/other/callbacks/\n",
        "                        keras.callbacks.ModelCheckpoint(filepath, monitor='val_loss', verbose=0, save_best_only=True,\n",
        "                                                        mode='auto'),\n",
        "                        keras.callbacks.EarlyStopping(monitor='val_loss', patience=5, verbose=0, mode='auto')\n",
        "                    ])  # EarlyStopping 当监测值不再改善时，该回调函数将中止训练，如去除本行将执行所有epoch\n"
      ],
      "execution_count": null,
      "outputs": []
    }
  ]
}