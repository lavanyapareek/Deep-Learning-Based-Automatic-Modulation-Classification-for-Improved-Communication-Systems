{
  "nbformat": 4,
  "nbformat_minor": 0,
  "metadata": {
    "colab": {
      "name": "DualStream_CNN.ipynb",
      "provenance": [],
      "collapsed_sections": [
        "PnpSMEPr9_zr"
      ]
    },
    "kernelspec": {
      "name": "python3",
      "display_name": "Python 3"
    },
    "language_info": {
      "name": "python"
    },
    "accelerator": "GPU"
  },
  "cells": [
    {
      "cell_type": "code",
      "metadata": {
        "colab": {
          "base_uri": "https://localhost:8080/"
        },
        "id": "pCYVikail5af",
        "outputId": "dbcf0f1d-f933-43c0-e73b-edb454a71080"
      },
      "source": [
        "%tensorflow_version 2.x\n",
        "import tensorflow as tf\n",
        "device_name = tf.test.gpu_device_name()\n",
        "if device_name != '/device:GPU:0':\n",
        "  raise SystemError('GPU device not found')\n",
        "print('Found GPU at: {}'.format(device_name))"
      ],
      "execution_count": 2,
      "outputs": [
        {
          "output_type": "stream",
          "text": [
            "Found GPU at: /device:GPU:0\n"
          ],
          "name": "stdout"
        }
      ]
    },
    {
      "cell_type": "markdown",
      "metadata": {
        "id": "BxxxOwqj956v"
      },
      "source": [
        "# Adi and Lavanya code"
      ]
    },
    {
      "cell_type": "markdown",
      "metadata": {
        "id": "vcNufJXHm2tq"
      },
      "source": [
        "Using Keras 1.2, And tensor Flow 1.x"
      ]
    },
    {
      "cell_type": "code",
      "metadata": {
        "id": "O3w74o_Lm0Vb"
      },
      "source": [
        "from keras import models\n",
        "from keras.models import Sequential\n",
        "from keras.layers import Dense\n",
        "from keras.layers import LSTM, Input\n",
        "from keras.layers import Dropout\n",
        "from keras.layers import Conv1D, MaxPooling1D, Flatten, Conv2D, Reshape, ZeroPadding2D\n",
        "from keras.models import Model\n",
        "import numpy as np\n",
        "import matplotlib.pyplot as plt\n",
        "import pandas as pd\n",
        "import pickle\n",
        "import keras\n",
        "from keras.layers import Layer\n",
        "from keras.layers import Activation, Dense\n",
        "\n"
      ],
      "execution_count": 3,
      "outputs": []
    },
    {
      "cell_type": "code",
      "metadata": {
        "id": "rpQfTxe63ea_",
        "colab": {
          "base_uri": "https://localhost:8080/"
        },
        "outputId": "60b9c53f-0397-45cd-fd65-e8b792fc79e8"
      },
      "source": [
        "print(tf.__version__)"
      ],
      "execution_count": 4,
      "outputs": [
        {
          "output_type": "stream",
          "text": [
            "2.4.1\n"
          ],
          "name": "stdout"
        }
      ]
    },
    {
      "cell_type": "code",
      "metadata": {
        "id": "Ei5o_Eo0nNC6",
        "colab": {
          "base_uri": "https://localhost:8080/"
        },
        "outputId": "f5849e10-8a64-466a-cc30-069ceb49f402"
      },
      "source": [
        "#Mounting Google Drive\n",
        "from google.colab import drive\n",
        "drive.mount('/content/drive')"
      ],
      "execution_count": 5,
      "outputs": [
        {
          "output_type": "stream",
          "text": [
            "Mounted at /content/drive\n"
          ],
          "name": "stdout"
        }
      ]
    },
    {
      "cell_type": "code",
      "metadata": {
        "id": "RhoM2aWKnf5G"
      },
      "source": [
        "#De-Pickling Data with encoding latin1\n",
        "with open(\"/content/drive/MyDrive/Colab Notebooks/UGP_data/RML2016.10a_dict.pickle\", 'rb') as f:\n",
        "    Xd = pickle.load(f, encoding='latin1')"
      ],
      "execution_count": 6,
      "outputs": []
    },
    {
      "cell_type": "code",
      "metadata": {
        "id": "a6xM47_NnjmQ"
      },
      "source": [
        "classes = ['32PSK', '16APSK', '32QAM', 'FM', 'GMSK', '32APSK', 'OQPSK', #1\n",
        " '8ASK', 'BPSK','8PSK', 'AM-SSB-SC', '4ASK', '16PSK', '64APSK', '128QAM', '128APSK','AM-DSB-SC', #2 \n",
        "'AM-SSB-WC', '64QAM', 'QPSK', '256QAM','AM-DSB-WC','OOK','16QAM']\n"
      ],
      "execution_count": 7,
      "outputs": []
    },
    {
      "cell_type": "code",
      "metadata": {
        "id": "QzVfftw5ouTZ"
      },
      "source": [
        "snrs,mods = map(lambda j: sorted(list(set(map(lambda x: x[j], Xd.keys())))), [1,0])\n",
        "X = []\n",
        "lbl = []\n",
        "for mod in mods:\n",
        "    for snr in snrs:\n",
        "        X.append(Xd[(mod,snr)])\n",
        "        for i in range(Xd[(mod,snr)].shape[0]):  lbl.append((mod,snr))\n",
        "X = np.vstack(X)"
      ],
      "execution_count": 8,
      "outputs": []
    },
    {
      "cell_type": "code",
      "metadata": {
        "id": "vcU75HjZo8hQ"
      },
      "source": [
        "np.random.seed(2016)  # 对预处理好的数据进行打包，制作成投入网络训练的格式，并进行one-hot编码\n",
        "n_examples = X.shape[0]\n",
        "n_train = n_examples * 0.5  # 对半\n",
        "train_idx = np.random.choice(range(0, n_examples), size=int(n_train), replace=False)\n",
        "test_idx = list(set(range(0, n_examples)) - set(train_idx))  # label\n",
        "X_train = X[train_idx]\n",
        "X_test = X[test_idx]"
      ],
      "execution_count": 9,
      "outputs": []
    },
    {
      "cell_type": "code",
      "metadata": {
        "id": "OarvnkHupgFP"
      },
      "source": [
        "def to_onehot(yy):\n",
        "    yy1 = np.zeros([len(yy), max(yy) + 1])\n",
        "    yy1[np.arange(len(yy)), yy] = 1\n",
        "    return yy1\n"
      ],
      "execution_count": 10,
      "outputs": []
    },
    {
      "cell_type": "code",
      "metadata": {
        "id": "VdvZIsaIpj82"
      },
      "source": [
        "trainy = list(map(lambda x: mods.index(lbl[x][0]), train_idx))\n",
        "Y_train = to_onehot(trainy)\n",
        "Y_test = to_onehot(list(map(lambda x: mods.index(lbl[x][0]), test_idx)))"
      ],
      "execution_count": 11,
      "outputs": []
    },
    {
      "cell_type": "code",
      "metadata": {
        "id": "2OtkuuCIpkK6",
        "colab": {
          "base_uri": "https://localhost:8080/"
        },
        "outputId": "a1bd171b-a480-4662-c0e2-e819d83a88ec"
      },
      "source": [
        "in_shp = list(X_train.shape[1:])\n",
        "print (X_train.shape, in_shp)\n",
        "classes = mods\n",
        "# %%\n",
        "dr = 0.5  # dropout rate (%) 卷积层部分  https://keras-cn.readthedocs.io/en/latest/layers/convolutional_layer/#conv2d\n",
        "#model = models.Sequential()  # 这里使用keras的序贯模型  https://keras-cn.readthedocs.io/en/latest/models/sequential/\n",
        "# Reshape [N,2,128] to [N,2,128,1] on input"
      ],
      "execution_count": 12,
      "outputs": [
        {
          "output_type": "stream",
          "text": [
            "(110000, 2, 128) [2, 128]\n"
          ],
          "name": "stdout"
        }
      ]
    },
    {
      "cell_type": "code",
      "metadata": {
        "id": "0ma27tT3jmI-"
      },
      "source": [
        "maxlen = 128 # change subnyq sampling rate HERE.\n",
        "\n",
        "def gendata(fp, nsamples):\n",
        "    global snrs, mods, train_idx, test_idx, lbl\n",
        "    with open(fp, 'rb') as f:\n",
        "      Xd = pickle.load(f, encoding='latin1')\n",
        "    \n",
        "    snrs,mods = map(lambda j: sorted(list(set(map(lambda x: x[j], Xd.keys())))), [1,0])\n",
        "    X = []  \n",
        "    lbl = []\n",
        "    for mod in mods:\n",
        "      for snr in snrs:\n",
        "        X.append(Xd[(mod, snr)])\n",
        "        for i in range(Xd[(mod, snr)].shape[0]):\n",
        "          lbl.append((mod, snr))\n",
        "    X = np.vstack(X)\n",
        "    \n",
        "    print('Length of lbl', len(lbl))\n",
        "    print('shape of X', X.shape)\n",
        "\n",
        "    np.random.seed(2016)\n",
        "    n_example = X.shape[0]\n",
        "    n_train = n_example * 0.5\n",
        "    train_idx = np.random.choice(range(0,n_example), size=int(n_train), replace=False)\n",
        "    test_idx = list(set(range(0, n_example)) - set(train_idx))\n",
        "    X_train = X[train_idx]\n",
        "    X_test =  X[test_idx]\n",
        "    \n",
        "    def to_onehot(vec):\n",
        "      vec_hot = np.zeros([len(vec), max(vec) + 1])\n",
        "      vec_hot[np.arange(len(vec)), vec] = 1\n",
        "      return vec_hot\n",
        "    \n",
        "    Y_train = to_onehot(list(map(lambda x: mods.index(lbl[x][0]), train_idx)))\n",
        "    Y_test = to_onehot(list(map(lambda x: mods.index(lbl[x][0]), test_idx)))\n",
        "\n",
        "    return (X_train,X_test,Y_train,Y_test)\n",
        "\n",
        "def norm_pad_zeros(X_train,nsamples):\n",
        "    print (\"Pad:\", X_train.shape)\n",
        "    for i in range(X_train.shape[0]):\n",
        "        X_train[i,:,0] = X_train[i,:,0]/la.norm(X_train[i,:,0],2)\n",
        "    return X_train\n",
        "\n",
        "\n",
        "def to_amp_phase(X_train,X_test,nsamples):\n",
        "    X_train_cmplx = X_train[:,0,:] + 1j* X_train[:,1,:]\n",
        "    X_test_cmplx = X_test[:,0,:] + 1j* X_test[:,1,:]\n",
        "    \n",
        "    X_train_amp = np.abs(X_train_cmplx)\n",
        "    X_train_ang = np.arctan2(X_train[:,1,:],X_train[:,0,:])/np.pi\n",
        "  \n",
        "\n",
        "    X_train_amp = np.reshape(X_train_amp,(-1,1,nsamples))\n",
        "    X_train_ang = np.reshape(X_train_ang,(-1,1,nsamples))\n",
        "   \n",
        "    X_train = np.concatenate((X_train_amp,X_train_ang), axis=1) \n",
        "    X_train = np.transpose(np.array(X_train),(0,2,1))\n",
        "    \n",
        "    X_test_amp = np.abs(X_test_cmplx)\n",
        "    X_test_ang = np.arctan2(X_test[:,1,:],X_test[:,0,:])/np.pi\n",
        "    \n",
        "    \n",
        "    X_test_amp = np.reshape(X_test_amp,(-1,1,nsamples))\n",
        "    X_test_ang = np.reshape(X_test_ang,(-1,1,nsamples))\n",
        "    \n",
        "    X_test = np.concatenate((X_test_amp,X_test_ang), axis=1) \n",
        "    X_test = np.transpose(np.array(X_test),(0,2,1))\n",
        "\n",
        "    X_train = np.transpose(X_train,axes=(0,2,1))\n",
        "    X_test = np.transpose(X_test,axes=(0,2,1))\n",
        "    return (X_train, X_test)"
      ],
      "execution_count": 13,
      "outputs": []
    },
    {
      "cell_type": "code",
      "metadata": {
        "id": "jJA4TcEyZhaq",
        "colab": {
          "base_uri": "https://localhost:8080/"
        },
        "outputId": "86d44565-46d4-4553-f039-f9819f614988"
      },
      "source": [
        "xtrain1,xtest1,ytrain1,ytest1= gendata(\"/content/drive/MyDrive/Colab Notebooks/UGP_data/RML2016.10a_dict.pickle\",maxlen)\n",
        "print(xtrain1.shape)\n",
        "print(ytrain1.shape)"
      ],
      "execution_count": 14,
      "outputs": [
        {
          "output_type": "stream",
          "text": [
            "Length of lbl 220000\n",
            "shape of X (220000, 2, 128)\n",
            "(110000, 2, 128)\n",
            "(110000, 11)\n"
          ],
          "name": "stdout"
        }
      ]
    },
    {
      "cell_type": "code",
      "metadata": {
        "id": "cX2AgRX_ZmVe",
        "colab": {
          "base_uri": "https://localhost:8080/"
        },
        "outputId": "20259b9d-912a-4f5a-ce09-d8d715b61512"
      },
      "source": [
        "print('length of X before to_amp_phase:', xtrain1.shape)\n",
        "X_train_ap,X_test_ap = to_amp_phase(xtrain1,xtest1,maxlen)\n",
        "print('length of X after to_amp_phase:', xtrain1.shape)\n",
        "X_train_iq, Y_train_iq = xtrain1, ytrain1\n",
        "X_test_iq, Y_test_iq = xtest1, ytest1\n",
        "Y_train_ap, Y_test_ap = ytrain1, ytest1"
      ],
      "execution_count": 15,
      "outputs": [
        {
          "output_type": "stream",
          "text": [
            "length of X before to_amp_phase: (110000, 2, 128)\n",
            "length of X after to_amp_phase: (110000, 2, 128)\n"
          ],
          "name": "stdout"
        }
      ]
    },
    {
      "cell_type": "code",
      "metadata": {
        "id": "YucVOl5FZog7",
        "colab": {
          "base_uri": "https://localhost:8080/"
        },
        "outputId": "0a5c079c-e248-4b77-94a0-7fdf44bbefd3"
      },
      "source": [
        "print(\"--\"*50)\n",
        "print(\"Training data for 1st Stream: \",X_train_ap.shape)\n",
        "print(\"Training labels for 1st Stream: \",Y_train_ap.shape)\n",
        "print(\"Testing data for 1st Stream: \",X_test_ap.shape)\n",
        "print(\"Testing labels for 1st Stream: \",Y_test_ap.shape)\n",
        "print(\"--\"*50)\n",
        "print(\"Training data for 2nd Stream: \",X_train_iq.shape)\n",
        "print(\"Training labels for 2nd Stream :\",Y_train_iq.shape)\n",
        "print(\"Testing data for 2nd Stream :  \",X_test_iq.shape)\n",
        "print(\"Testing labels for 2nd Stream : \",Y_test_iq.shape)\n",
        "print(\"--\"*50)"
      ],
      "execution_count": 16,
      "outputs": [
        {
          "output_type": "stream",
          "text": [
            "----------------------------------------------------------------------------------------------------\n",
            "Training data for 1st Stream:  (110000, 2, 128)\n",
            "Training labels for 1st Stream:  (110000, 11)\n",
            "Testing data for 1st Stream:  (110000, 2, 128)\n",
            "Testing labels for 1st Stream:  (110000, 11)\n",
            "----------------------------------------------------------------------------------------------------\n",
            "Training data for 2nd Stream:  (110000, 2, 128)\n",
            "Training labels for 2nd Stream : (110000, 11)\n",
            "Testing data for 2nd Stream :   (110000, 2, 128)\n",
            "Testing labels for 2nd Stream :  (110000, 11)\n",
            "----------------------------------------------------------------------------------------------------\n"
          ],
          "name": "stdout"
        }
      ]
    },
    {
      "cell_type": "code",
      "metadata": {
        "id": "05qbqhKo5aaK"
      },
      "source": [
        "X_train_ap=np.reshape(X_train_ap,(-1,2,128,1))\n",
        "X_test_ap=np.reshape(X_test_ap,(-1,2,128,1))\n",
        "X_train_iq=np.reshape(X_train_iq,(-1,2,128,1))\n",
        "X_test_iq=np.reshape(X_test_iq,(-1,2,128,1))"
      ],
      "execution_count": 17,
      "outputs": []
    },
    {
      "cell_type": "code",
      "metadata": {
        "id": "ab05olddZqZ5"
      },
      "source": [
        "X_test=np.reshape(X_test,(-1,2,128,1))"
      ],
      "execution_count": 18,
      "outputs": []
    },
    {
      "cell_type": "code",
      "metadata": {
        "id": "IXnau_zNZsN7"
      },
      "source": [
        "import keras.backend as K"
      ],
      "execution_count": 19,
      "outputs": []
    },
    {
      "cell_type": "code",
      "metadata": {
        "id": "TcFD2Q7OhR95"
      },
      "source": [
        "from keras.layers import Conv1D, MaxPooling1D, Flatten, Conv2D, Reshape, ZeroPadding2D\n",
        "from keras.layers import *\n",
        "from keras.models import Model\n",
        "from tensorflow.keras import layers\n",
        "from tensorflow.keras import regularizers"
      ],
      "execution_count": 21,
      "outputs": []
    },
    {
      "cell_type": "code",
      "metadata": {
        "id": "M2CLMJXBhSNw",
        "colab": {
          "base_uri": "https://localhost:8080/"
        },
        "outputId": "178bffa9-b61c-40a9-8a97-c55b3e7ecf57"
      },
      "source": [
        "input_x = Input(shape=(2, 128,1))\n",
        "\n",
        "input_x_padding = ZeroPadding2D((0, 2))(input_x)\n",
        "\n",
        "layer1 = Conv2D(256, (1, 3), padding='valid', activation=\"relu\", name=\"conv1\")(input_x_padding)\n",
        "layer1 = Dropout(dr)(layer1)\n",
        "layer1_padding = ZeroPadding2D((0, 2), data_format=\"channels_first\")(layer1)\n",
        "print(layer1_padding.shape)\n",
        "layer2 = Conv2D(256, (2, 3), padding=\"valid\", activation=\"relu\", name=\"conv2\", kernel_initializer='glorot_uniform')(layer1_padding)\n",
        "layer2 = Dropout(dr)(layer2)\n",
        "layer2_padding = ZeroPadding2D((0, 2), data_format=\"channels_first\")(layer2)\n",
        "\n",
        "layer3 = Conv2D(80, (1, 3), padding='valid', activation=\"relu\", name=\"conv3\", kernel_initializer='glorot_uniform',kernel_regularizer=regularizers.l1_l2(l1=1e-5, l2=1e-4))(layer2)\n",
        "layer3 = Dropout(dr)(layer3)\n",
        "\n",
        "\n",
        "model1 = Model(inputs=input_x, outputs=layer3)\n",
        "\n",
        "model1.compile()\n",
        "\n",
        "model1.summary()"
      ],
      "execution_count": 22,
      "outputs": [
        {
          "output_type": "stream",
          "text": [
            "(None, 2, 130, 260)\n",
            "Model: \"model\"\n",
            "_________________________________________________________________\n",
            "Layer (type)                 Output Shape              Param #   \n",
            "=================================================================\n",
            "input_2 (InputLayer)         [(None, 2, 128, 1)]       0         \n",
            "_________________________________________________________________\n",
            "zero_padding2d_3 (ZeroPaddin (None, 2, 132, 1)         0         \n",
            "_________________________________________________________________\n",
            "conv1 (Conv2D)               (None, 2, 130, 256)       1024      \n",
            "_________________________________________________________________\n",
            "dropout_2 (Dropout)          (None, 2, 130, 256)       0         \n",
            "_________________________________________________________________\n",
            "zero_padding2d_4 (ZeroPaddin (None, 2, 130, 260)       0         \n",
            "_________________________________________________________________\n",
            "conv2 (Conv2D)               (None, 1, 128, 256)       399616    \n",
            "_________________________________________________________________\n",
            "dropout_3 (Dropout)          (None, 1, 128, 256)       0         \n",
            "_________________________________________________________________\n",
            "conv3 (Conv2D)               (None, 1, 126, 80)        61520     \n",
            "_________________________________________________________________\n",
            "dropout_4 (Dropout)          (None, 1, 126, 80)        0         \n",
            "=================================================================\n",
            "Total params: 462,160\n",
            "Trainable params: 462,160\n",
            "Non-trainable params: 0\n",
            "_________________________________________________________________\n"
          ],
          "name": "stdout"
        }
      ]
    },
    {
      "cell_type": "code",
      "metadata": {
        "id": "44Bs9h7KhSSR",
        "colab": {
          "base_uri": "https://localhost:8080/"
        },
        "outputId": "d96e9ec7-a1bc-47ea-aee8-ff41f5522e5f"
      },
      "source": [
        "input_x = Input(shape=(2, 128,1))\n",
        "\n",
        "input_x_padding = ZeroPadding2D((0, 2))(input_x)\n",
        "\n",
        "layer1 = Conv2D(256, (1, 3), padding='valid', activation=\"relu\", name=\"conv11\")(input_x_padding)\n",
        "layer1 = Dropout(dr)(layer1)\n",
        "layer1_padding = ZeroPadding2D((0, 2), data_format=\"channels_first\")(layer1)\n",
        "print(layer1_padding.shape)\n",
        "layer2 = Conv2D(256, (2, 3), padding=\"valid\", activation=\"relu\", name=\"conv22\", kernel_initializer='glorot_uniform')(layer1_padding)\n",
        "layer2 = Dropout(dr)(layer2)\n",
        "layer2_padding = ZeroPadding2D((0, 2), data_format=\"channels_first\")(layer2)\n",
        "\n",
        "layer3 = Conv2D(80, (1, 3), padding='valid', activation=\"relu\", name=\"conv33\", kernel_initializer='glorot_uniform',kernel_regularizer=regularizers.l1_l2(l1=1e-5, l2=1e-4))(layer2)\n",
        "layer3 = Dropout(dr)(layer3)\n",
        "\n",
        "\n",
        "model2 = Model(inputs=input_x, outputs=layer3)\n",
        "\n",
        "model2.compile()\n",
        "\n",
        "model2.summary()"
      ],
      "execution_count": 23,
      "outputs": [
        {
          "output_type": "stream",
          "text": [
            "(None, 2, 130, 260)\n",
            "Model: \"model_1\"\n",
            "_________________________________________________________________\n",
            "Layer (type)                 Output Shape              Param #   \n",
            "=================================================================\n",
            "input_3 (InputLayer)         [(None, 2, 128, 1)]       0         \n",
            "_________________________________________________________________\n",
            "zero_padding2d_6 (ZeroPaddin (None, 2, 132, 1)         0         \n",
            "_________________________________________________________________\n",
            "conv11 (Conv2D)              (None, 2, 130, 256)       1024      \n",
            "_________________________________________________________________\n",
            "dropout_5 (Dropout)          (None, 2, 130, 256)       0         \n",
            "_________________________________________________________________\n",
            "zero_padding2d_7 (ZeroPaddin (None, 2, 130, 260)       0         \n",
            "_________________________________________________________________\n",
            "conv22 (Conv2D)              (None, 1, 128, 256)       399616    \n",
            "_________________________________________________________________\n",
            "dropout_6 (Dropout)          (None, 1, 128, 256)       0         \n",
            "_________________________________________________________________\n",
            "conv33 (Conv2D)              (None, 1, 126, 80)        61520     \n",
            "_________________________________________________________________\n",
            "dropout_7 (Dropout)          (None, 1, 126, 80)        0         \n",
            "=================================================================\n",
            "Total params: 462,160\n",
            "Trainable params: 462,160\n",
            "Non-trainable params: 0\n",
            "_________________________________________________________________\n"
          ],
          "name": "stdout"
        }
      ]
    },
    {
      "cell_type": "code",
      "metadata": {
        "id": "OGXvFZF8hSVs"
      },
      "source": [
        ""
      ],
      "execution_count": 23,
      "outputs": []
    },
    {
      "cell_type": "code",
      "metadata": {
        "id": "Cbb0XERjSulm",
        "colab": {
          "base_uri": "https://localhost:8080/"
        },
        "outputId": "0d87cb59-c4dd-47a4-bc98-2c597c0fde55"
      },
      "source": [
        "mergedOut = Concatenate()([model1.output,model2.output]) \n",
        "# output layer\n",
        "mergedOut = Flatten()(mergedOut)\n",
        "mergedOut = Dense(256, kernel_regularizer=regularizers.l1_l2(l1=1e-5, l2=1e-4))(mergedOut)\n",
        "mergedOut = Dropout(dr)(mergedOut)\n",
        "mergedOut = Dense(11, activation='softmax')(mergedOut)\n",
        "newModel = Model([model1.input,model2.input], mergedOut)\n",
        "newModel.compile(loss=keras.losses.categorical_crossentropy,optimizer=keras.optimizers.Adam(lr=0.00018),metrics=['accuracy'])\n",
        "newModel.summary()"
      ],
      "execution_count": 24,
      "outputs": [
        {
          "output_type": "stream",
          "text": [
            "Model: \"model_2\"\n",
            "__________________________________________________________________________________________________\n",
            "Layer (type)                    Output Shape         Param #     Connected to                     \n",
            "==================================================================================================\n",
            "input_2 (InputLayer)            [(None, 2, 128, 1)]  0                                            \n",
            "__________________________________________________________________________________________________\n",
            "input_3 (InputLayer)            [(None, 2, 128, 1)]  0                                            \n",
            "__________________________________________________________________________________________________\n",
            "zero_padding2d_3 (ZeroPadding2D (None, 2, 132, 1)    0           input_2[0][0]                    \n",
            "__________________________________________________________________________________________________\n",
            "zero_padding2d_6 (ZeroPadding2D (None, 2, 132, 1)    0           input_3[0][0]                    \n",
            "__________________________________________________________________________________________________\n",
            "conv1 (Conv2D)                  (None, 2, 130, 256)  1024        zero_padding2d_3[0][0]           \n",
            "__________________________________________________________________________________________________\n",
            "conv11 (Conv2D)                 (None, 2, 130, 256)  1024        zero_padding2d_6[0][0]           \n",
            "__________________________________________________________________________________________________\n",
            "dropout_2 (Dropout)             (None, 2, 130, 256)  0           conv1[0][0]                      \n",
            "__________________________________________________________________________________________________\n",
            "dropout_5 (Dropout)             (None, 2, 130, 256)  0           conv11[0][0]                     \n",
            "__________________________________________________________________________________________________\n",
            "zero_padding2d_4 (ZeroPadding2D (None, 2, 130, 260)  0           dropout_2[0][0]                  \n",
            "__________________________________________________________________________________________________\n",
            "zero_padding2d_7 (ZeroPadding2D (None, 2, 130, 260)  0           dropout_5[0][0]                  \n",
            "__________________________________________________________________________________________________\n",
            "conv2 (Conv2D)                  (None, 1, 128, 256)  399616      zero_padding2d_4[0][0]           \n",
            "__________________________________________________________________________________________________\n",
            "conv22 (Conv2D)                 (None, 1, 128, 256)  399616      zero_padding2d_7[0][0]           \n",
            "__________________________________________________________________________________________________\n",
            "dropout_3 (Dropout)             (None, 1, 128, 256)  0           conv2[0][0]                      \n",
            "__________________________________________________________________________________________________\n",
            "dropout_6 (Dropout)             (None, 1, 128, 256)  0           conv22[0][0]                     \n",
            "__________________________________________________________________________________________________\n",
            "conv3 (Conv2D)                  (None, 1, 126, 80)   61520       dropout_3[0][0]                  \n",
            "__________________________________________________________________________________________________\n",
            "conv33 (Conv2D)                 (None, 1, 126, 80)   61520       dropout_6[0][0]                  \n",
            "__________________________________________________________________________________________________\n",
            "dropout_4 (Dropout)             (None, 1, 126, 80)   0           conv3[0][0]                      \n",
            "__________________________________________________________________________________________________\n",
            "dropout_7 (Dropout)             (None, 1, 126, 80)   0           conv33[0][0]                     \n",
            "__________________________________________________________________________________________________\n",
            "concatenate (Concatenate)       (None, 1, 126, 160)  0           dropout_4[0][0]                  \n",
            "                                                                 dropout_7[0][0]                  \n",
            "__________________________________________________________________________________________________\n",
            "flatten (Flatten)               (None, 20160)        0           concatenate[0][0]                \n",
            "__________________________________________________________________________________________________\n",
            "dense (Dense)                   (None, 256)          5161216     flatten[0][0]                    \n",
            "__________________________________________________________________________________________________\n",
            "dropout_8 (Dropout)             (None, 256)          0           dense[0][0]                      \n",
            "__________________________________________________________________________________________________\n",
            "dense_1 (Dense)                 (None, 11)           2827        dropout_8[0][0]                  \n",
            "==================================================================================================\n",
            "Total params: 6,088,363\n",
            "Trainable params: 6,088,363\n",
            "Non-trainable params: 0\n",
            "__________________________________________________________________________________________________\n"
          ],
          "name": "stdout"
        }
      ]
    },
    {
      "cell_type": "code",
      "metadata": {
        "id": "NnGkE2IRhSiV",
        "colab": {
          "base_uri": "https://localhost:8080/"
        },
        "outputId": "64eb7291-c59c-44e9-e414-f02831b67c50"
      },
      "source": [
        "batch_size=1024\n",
        "epochs=100\n",
        "filepath = 'weight_4layers.wts.h5'\n",
        "history = newModel.fit([X_train_ap,X_train_iq],\n",
        "                    Y_train,\n",
        "                    batch_size=1024,\n",
        "                    epochs=100,\n",
        "                    verbose=1, use_multiprocessing = True,\n",
        "                    validation_data=([X_test_ap,X_test_iq],Y_test)\n",
        "                    ,callbacks = [keras.callbacks.ModelCheckpoint(filepath, monitor='val_loss', verbose=0, save_best_only=True, mode='auto'),\n",
        "                 keras.callbacks.EarlyStopping(monitor='val_loss', patience=5, verbose=0, mode='auto')\n",
        "    ])\n",
        "\n"
      ],
      "execution_count": 25,
      "outputs": [
        {
          "output_type": "stream",
          "text": [
            "Epoch 1/100\n",
            "108/108 [==============================] - 86s 480ms/step - loss: 2.7495 - accuracy: 0.1681 - val_loss: 2.4454 - val_accuracy: 0.2233\n",
            "Epoch 2/100\n",
            "108/108 [==============================] - 51s 472ms/step - loss: 2.4294 - accuracy: 0.2224 - val_loss: 2.3373 - val_accuracy: 0.2488\n",
            "Epoch 3/100\n",
            "108/108 [==============================] - 50s 468ms/step - loss: 2.3050 - accuracy: 0.2598 - val_loss: 2.1600 - val_accuracy: 0.2938\n",
            "Epoch 4/100\n",
            "108/108 [==============================] - 50s 467ms/step - loss: 2.1533 - accuracy: 0.2945 - val_loss: 2.0416 - val_accuracy: 0.3309\n",
            "Epoch 5/100\n",
            "108/108 [==============================] - 50s 468ms/step - loss: 2.0479 - accuracy: 0.3236 - val_loss: 1.8949 - val_accuracy: 0.3685\n",
            "Epoch 6/100\n",
            "108/108 [==============================] - 50s 467ms/step - loss: 1.9217 - accuracy: 0.3575 - val_loss: 1.8163 - val_accuracy: 0.3874\n",
            "Epoch 7/100\n",
            "108/108 [==============================] - 50s 467ms/step - loss: 1.8442 - accuracy: 0.3801 - val_loss: 1.7752 - val_accuracy: 0.3985\n",
            "Epoch 8/100\n",
            "108/108 [==============================] - 50s 468ms/step - loss: 1.7938 - accuracy: 0.3952 - val_loss: 1.7339 - val_accuracy: 0.4113\n",
            "Epoch 9/100\n",
            "108/108 [==============================] - 50s 467ms/step - loss: 1.7421 - accuracy: 0.4132 - val_loss: 1.6819 - val_accuracy: 0.4303\n",
            "Epoch 10/100\n",
            "108/108 [==============================] - 50s 468ms/step - loss: 1.7011 - accuracy: 0.4253 - val_loss: 1.6628 - val_accuracy: 0.4351\n",
            "Epoch 11/100\n",
            "108/108 [==============================] - 50s 468ms/step - loss: 1.6700 - accuracy: 0.4357 - val_loss: 1.6328 - val_accuracy: 0.4490\n",
            "Epoch 12/100\n",
            "108/108 [==============================] - 50s 467ms/step - loss: 1.6451 - accuracy: 0.4450 - val_loss: 1.6138 - val_accuracy: 0.4559\n",
            "Epoch 13/100\n",
            "108/108 [==============================] - 50s 468ms/step - loss: 1.6280 - accuracy: 0.4497 - val_loss: 1.5959 - val_accuracy: 0.4594\n",
            "Epoch 14/100\n",
            "108/108 [==============================] - 50s 468ms/step - loss: 1.6221 - accuracy: 0.4481 - val_loss: 1.5819 - val_accuracy: 0.4644\n",
            "Epoch 15/100\n",
            "108/108 [==============================] - 50s 468ms/step - loss: 1.5994 - accuracy: 0.4559 - val_loss: 1.5867 - val_accuracy: 0.4574\n",
            "Epoch 16/100\n",
            "108/108 [==============================] - 50s 467ms/step - loss: 1.5924 - accuracy: 0.4584 - val_loss: 1.5753 - val_accuracy: 0.4629\n",
            "Epoch 17/100\n",
            "108/108 [==============================] - 50s 468ms/step - loss: 1.5818 - accuracy: 0.4604 - val_loss: 1.5691 - val_accuracy: 0.4638\n",
            "Epoch 18/100\n",
            "108/108 [==============================] - 50s 467ms/step - loss: 1.5783 - accuracy: 0.4596 - val_loss: 1.5641 - val_accuracy: 0.4674\n",
            "Epoch 19/100\n",
            "108/108 [==============================] - 50s 467ms/step - loss: 1.5690 - accuracy: 0.4645 - val_loss: 1.5506 - val_accuracy: 0.4704\n",
            "Epoch 20/100\n",
            "108/108 [==============================] - 50s 468ms/step - loss: 1.5664 - accuracy: 0.4643 - val_loss: 1.5512 - val_accuracy: 0.4707\n",
            "Epoch 21/100\n",
            "108/108 [==============================] - 50s 467ms/step - loss: 1.5652 - accuracy: 0.4650 - val_loss: 1.5518 - val_accuracy: 0.4678\n",
            "Epoch 22/100\n",
            "108/108 [==============================] - 50s 467ms/step - loss: 1.5528 - accuracy: 0.4710 - val_loss: 1.5488 - val_accuracy: 0.4720\n",
            "Epoch 23/100\n",
            "108/108 [==============================] - 50s 467ms/step - loss: 1.5563 - accuracy: 0.4705 - val_loss: 1.5395 - val_accuracy: 0.4760\n",
            "Epoch 24/100\n",
            "108/108 [==============================] - 50s 466ms/step - loss: 1.5517 - accuracy: 0.4678 - val_loss: 1.5469 - val_accuracy: 0.4688\n",
            "Epoch 25/100\n",
            "108/108 [==============================] - 50s 468ms/step - loss: 1.5518 - accuracy: 0.4704 - val_loss: 1.5439 - val_accuracy: 0.4736\n",
            "Epoch 26/100\n",
            "108/108 [==============================] - 50s 466ms/step - loss: 1.5407 - accuracy: 0.4726 - val_loss: 1.5350 - val_accuracy: 0.4735\n",
            "Epoch 27/100\n",
            "108/108 [==============================] - 50s 467ms/step - loss: 1.5373 - accuracy: 0.4730 - val_loss: 1.5320 - val_accuracy: 0.4775\n",
            "Epoch 28/100\n",
            "108/108 [==============================] - 50s 467ms/step - loss: 1.5344 - accuracy: 0.4746 - val_loss: 1.5337 - val_accuracy: 0.4779\n",
            "Epoch 29/100\n",
            "108/108 [==============================] - 50s 467ms/step - loss: 1.5286 - accuracy: 0.4796 - val_loss: 1.5447 - val_accuracy: 0.4732\n",
            "Epoch 30/100\n",
            "108/108 [==============================] - 50s 467ms/step - loss: 1.5263 - accuracy: 0.4814 - val_loss: 1.5280 - val_accuracy: 0.4794\n",
            "Epoch 31/100\n",
            "108/108 [==============================] - 50s 467ms/step - loss: 1.5218 - accuracy: 0.4824 - val_loss: 1.5206 - val_accuracy: 0.4837\n",
            "Epoch 32/100\n",
            "108/108 [==============================] - 50s 468ms/step - loss: 1.5216 - accuracy: 0.4805 - val_loss: 1.5248 - val_accuracy: 0.4818\n",
            "Epoch 33/100\n",
            "108/108 [==============================] - 50s 467ms/step - loss: 1.5160 - accuracy: 0.4836 - val_loss: 1.5208 - val_accuracy: 0.4849\n",
            "Epoch 34/100\n",
            "108/108 [==============================] - 50s 467ms/step - loss: 1.5110 - accuracy: 0.4834 - val_loss: 1.5221 - val_accuracy: 0.4841\n",
            "Epoch 35/100\n",
            "108/108 [==============================] - 50s 468ms/step - loss: 1.5102 - accuracy: 0.4883 - val_loss: 1.5192 - val_accuracy: 0.4827\n",
            "Epoch 36/100\n",
            "108/108 [==============================] - 50s 468ms/step - loss: 1.5082 - accuracy: 0.4886 - val_loss: 1.5171 - val_accuracy: 0.4894\n",
            "Epoch 37/100\n",
            "108/108 [==============================] - 50s 467ms/step - loss: 1.5057 - accuracy: 0.4892 - val_loss: 1.5097 - val_accuracy: 0.4892\n",
            "Epoch 38/100\n",
            "108/108 [==============================] - 50s 468ms/step - loss: 1.5052 - accuracy: 0.4901 - val_loss: 1.5106 - val_accuracy: 0.4900\n",
            "Epoch 39/100\n",
            "108/108 [==============================] - 50s 467ms/step - loss: 1.5065 - accuracy: 0.4884 - val_loss: 1.5138 - val_accuracy: 0.4891\n",
            "Epoch 40/100\n",
            "108/108 [==============================] - 50s 468ms/step - loss: 1.5074 - accuracy: 0.4883 - val_loss: 1.5161 - val_accuracy: 0.4880\n",
            "Epoch 41/100\n",
            "108/108 [==============================] - 50s 468ms/step - loss: 1.5035 - accuracy: 0.4917 - val_loss: 1.5091 - val_accuracy: 0.4930\n",
            "Epoch 42/100\n",
            "108/108 [==============================] - 50s 467ms/step - loss: 1.4928 - accuracy: 0.4948 - val_loss: 1.5081 - val_accuracy: 0.4938\n",
            "Epoch 43/100\n",
            "108/108 [==============================] - 50s 468ms/step - loss: 1.4926 - accuracy: 0.4979 - val_loss: 1.5110 - val_accuracy: 0.4912\n",
            "Epoch 44/100\n",
            "108/108 [==============================] - 50s 467ms/step - loss: 1.4957 - accuracy: 0.4941 - val_loss: 1.5017 - val_accuracy: 0.4950\n",
            "Epoch 45/100\n",
            "108/108 [==============================] - 50s 468ms/step - loss: 1.4906 - accuracy: 0.4954 - val_loss: 1.5015 - val_accuracy: 0.4954\n",
            "Epoch 46/100\n",
            "108/108 [==============================] - 50s 468ms/step - loss: 1.4941 - accuracy: 0.4966 - val_loss: 1.5043 - val_accuracy: 0.4955\n",
            "Epoch 47/100\n",
            "108/108 [==============================] - 50s 468ms/step - loss: 1.4798 - accuracy: 0.5011 - val_loss: 1.5013 - val_accuracy: 0.4966\n",
            "Epoch 48/100\n",
            "108/108 [==============================] - 50s 468ms/step - loss: 1.4908 - accuracy: 0.4965 - val_loss: 1.4977 - val_accuracy: 0.4982\n",
            "Epoch 49/100\n",
            "108/108 [==============================] - 50s 468ms/step - loss: 1.4786 - accuracy: 0.4999 - val_loss: 1.4955 - val_accuracy: 0.4972\n",
            "Epoch 50/100\n",
            "108/108 [==============================] - 50s 468ms/step - loss: 1.4784 - accuracy: 0.5005 - val_loss: 1.4987 - val_accuracy: 0.4998\n",
            "Epoch 51/100\n",
            "108/108 [==============================] - 50s 467ms/step - loss: 1.4818 - accuracy: 0.5043 - val_loss: 1.4936 - val_accuracy: 0.5000\n",
            "Epoch 52/100\n",
            "108/108 [==============================] - 51s 469ms/step - loss: 1.4738 - accuracy: 0.5027 - val_loss: 1.4956 - val_accuracy: 0.4974\n",
            "Epoch 53/100\n",
            "108/108 [==============================] - 50s 467ms/step - loss: 1.4751 - accuracy: 0.5020 - val_loss: 1.4894 - val_accuracy: 0.5008\n",
            "Epoch 54/100\n",
            "108/108 [==============================] - 50s 467ms/step - loss: 1.4740 - accuracy: 0.5053 - val_loss: 1.4945 - val_accuracy: 0.4910\n",
            "Epoch 55/100\n",
            "108/108 [==============================] - 50s 468ms/step - loss: 1.4774 - accuracy: 0.5032 - val_loss: 1.4882 - val_accuracy: 0.5009\n",
            "Epoch 56/100\n",
            "108/108 [==============================] - 50s 467ms/step - loss: 1.4739 - accuracy: 0.5049 - val_loss: 1.4904 - val_accuracy: 0.5008\n",
            "Epoch 57/100\n",
            "108/108 [==============================] - 50s 466ms/step - loss: 1.4702 - accuracy: 0.5059 - val_loss: 1.4906 - val_accuracy: 0.5015\n",
            "Epoch 58/100\n",
            "108/108 [==============================] - 50s 468ms/step - loss: 1.4645 - accuracy: 0.5083 - val_loss: 1.4916 - val_accuracy: 0.5002\n",
            "Epoch 59/100\n",
            "108/108 [==============================] - 50s 467ms/step - loss: 1.4727 - accuracy: 0.5051 - val_loss: 1.4902 - val_accuracy: 0.4994\n",
            "Epoch 60/100\n",
            "108/108 [==============================] - 50s 468ms/step - loss: 1.4683 - accuracy: 0.5062 - val_loss: 1.4925 - val_accuracy: 0.5010\n"
          ],
          "name": "stdout"
        }
      ]
    },
    {
      "cell_type": "code",
      "metadata": {
        "id": "wduDi8yvZxvu",
        "colab": {
          "base_uri": "https://localhost:8080/",
          "height": 298
        },
        "outputId": "085027cd-8694-4ac9-a191-a026b62913a9"
      },
      "source": [
        "# Show loss curves\n",
        "plt.figure()\n",
        "plt.title('Training performance')\n",
        "plt.plot(history.epoch, history.history['loss'], label='train loss+error')\n",
        "plt.plot(history.epoch, history.history['val_loss'], label='val_error')\n",
        "plt.legend()\n",
        "\n",
        "\n",
        "\n",
        "\n",
        "\n",
        "\n",
        "\n",
        "\n",
        "\n"
      ],
      "execution_count": 26,
      "outputs": [
        {
          "output_type": "execute_result",
          "data": {
            "text/plain": [
              "<matplotlib.legend.Legend at 0x7f7a9d62e850>"
            ]
          },
          "metadata": {
            "tags": []
          },
          "execution_count": 26
        },
        {
          "output_type": "display_data",
          "data": {
            "image/png": "[encoded data removed]",
            "text/plain": [
              "<Figure size 432x288 with 1 Axes>"
            ]
          },
          "metadata": {
            "tags": [],
            "needs_background": "light"
          }
        }
      ]
    },
    {
      "cell_type": "code",
      "metadata": {
        "id": "y_BYqUTNZ3Z9",
        "colab": {
          "base_uri": "https://localhost:8080/"
        },
        "outputId": "10540ab3-b694-49d0-ac35-8496f76db5a3"
      },
      "source": [
        "acc = {}\n",
        "for snr in snrs:\n",
        "  # extract classes @ SNR\n",
        "  test_SNRs = list(map(lambda x: lbl[x][1], test_idx))\n",
        "  test_X_i_ap = X_test_ap[np.where(np.array(test_SNRs)==snr)]\n",
        "  test_X_i_iq = X_test_iq[np.where(np.array(test_SNRs)==snr)]\n",
        "  test_Y_i = Y_test[np.where(np.array(test_SNRs)==snr)]\n",
        "  # estimate classes\n",
        "  test_Y_i_hat = newModel.predict([test_X_i_ap,test_X_i_iq])\n",
        "  conf = np.zeros([len(classes),len(classes)])\n",
        "  confnorm = np.zeros([len(classes),len(classes)])\n",
        "  for i in range(0,test_X_i_ap.shape[0]):\n",
        "    j = list(test_Y_i[i,:]).index(1)\n",
        "    k = int(np.argmax(test_Y_i_hat[i,:]))\n",
        "    conf[j,k] = conf[j,k] + 1\n",
        "\n",
        "  for i in range(0,len(classes)):\n",
        "    confnorm[i,:] = conf[i,:] / np.sum(conf[i,:])\n",
        "\n",
        "  #plt.figure()\n",
        "  #plot_confusion_matrix(confnorm, labels=classes, title=\"ConvNet Confusion Matrix (SNR=%d)\"%(snr))\n",
        "  cor = np.sum(np.diag(conf))\n",
        "  ncor = np.sum(conf) - cor\n",
        "  print(\"SNR: \",snr, \" Overall Accuracy: \", cor / (cor + ncor))\n",
        "  acc[snr] = 1.0 * cor / (cor + ncor)"
      ],
      "execution_count": 27,
      "outputs": [
        {
          "output_type": "stream",
          "text": [
            "SNR:  -20  Overall Accuracy:  0.0969807868252516\n",
            "SNR:  -18  Overall Accuracy:  0.09100817438692098\n",
            "SNR:  -16  Overall Accuracy:  0.09352387843704775\n",
            "SNR:  -14  Overall Accuracy:  0.09599422591122339\n",
            "SNR:  -12  Overall Accuracy:  0.12014585232452142\n",
            "SNR:  -10  Overall Accuracy:  0.16865114625910788\n",
            "SNR:  -8  Overall Accuracy:  0.2630902076060996\n",
            "SNR:  -6  Overall Accuracy:  0.36693548387096775\n",
            "SNR:  -4  Overall Accuracy:  0.4502772643253235\n",
            "SNR:  -2  Overall Accuracy:  0.5428156748911466\n",
            "SNR:  0  Overall Accuracy:  0.6572992700729927\n",
            "SNR:  2  Overall Accuracy:  0.7302798982188295\n",
            "SNR:  4  Overall Accuracy:  0.7718428781204112\n",
            "SNR:  6  Overall Accuracy:  0.7953068592057762\n",
            "SNR:  8  Overall Accuracy:  0.8032461677186654\n",
            "SNR:  10  Overall Accuracy:  0.7983606557377049\n",
            "SNR:  12  Overall Accuracy:  0.7848995111352526\n",
            "SNR:  14  Overall Accuracy:  0.8045764901273298\n",
            "SNR:  16  Overall Accuracy:  0.7938461538461539\n",
            "SNR:  18  Overall Accuracy:  0.7945994599459946\n"
          ],
          "name": "stdout"
        }
      ]
    },
    {
      "cell_type": "code",
      "metadata": {
        "id": "sNklHJ4fZ7Nb",
        "colab": {
          "base_uri": "https://localhost:8080/",
          "height": 332
        },
        "outputId": "7d87973e-a25c-496a-f816-ddf6da83d30a"
      },
      "source": [
        "print(acc)\n",
        "fd = open('results_cnn_d0.5.dat','wb')\n",
        "pickle.dump( (\"CNN\", 0.5, acc) , fd )\n",
        "\n",
        "# Plot accuracy curve\n",
        "plt.plot(snrs, list(map(lambda x: acc[x], snrs)))\n",
        "plt.xlabel(\"Signal to Noise Ratio\")\n",
        "plt.ylabel(\"Classification Accuracy\")\n",
        "plt.title(\"New Model Classification Accuracy on RadioML 2016.10 Alpha\")\n",
        "plt.show()"
      ],
      "execution_count": 28,
      "outputs": [
        {
          "output_type": "stream",
          "text": [
            "{-20: 0.0969807868252516, -18: 0.09100817438692098, -16: 0.09352387843704775, -14: 0.09599422591122339, -12: 0.12014585232452142, -10: 0.16865114625910788, -8: 0.2630902076060996, -6: 0.36693548387096775, -4: 0.4502772643253235, -2: 0.5428156748911466, 0: 0.6572992700729927, 2: 0.7302798982188295, 4: 0.7718428781204112, 6: 0.7953068592057762, 8: 0.8032461677186654, 10: 0.7983606557377049, 12: 0.7848995111352526, 14: 0.8045764901273298, 16: 0.7938461538461539, 18: 0.7945994599459946}\n"
          ],
          "name": "stdout"
        },
        {
          "output_type": "display_data",
          "data": {
            "image/png": "[encoded data removed]",
            "text/plain": [
              "<Figure size 432x288 with 1 Axes>"
            ]
          },
          "metadata": {
            "tags": [],
            "needs_background": "light"
          }
        }
      ]
    },
    {
      "cell_type": "code",
      "metadata": {
        "id": "Fawy65TdaAeU",
        "colab": {
          "base_uri": "https://localhost:8080/",
          "height": 560
        },
        "outputId": "8e2f2cf9-dec8-4f2e-a8e7-31d16eeb35e1"
      },
      "source": [
        "def plot_confusion_matrix(cm, title='Confusion matrix', cmap=plt.cm.Blues, labels=[]):\n",
        "    plt.imshow(cm, interpolation='nearest', cmap=cmap)\n",
        "    plt.title(title)\n",
        "    plt.colorbar()\n",
        "    tick_marks = np.arange(len(labels))\n",
        "    plt.xticks(tick_marks, labels, rotation=45)\n",
        "    plt.yticks(tick_marks, labels)\n",
        "    plt.tight_layout()\n",
        "    plt.ylabel('True label')\n",
        "    plt.xlabel('Predicted label')\n",
        "    plt.show()\n",
        "\n",
        "\n",
        "test_Y_hat = newModel.predict([X_test_ap,X_test_iq], batch_size=1024)\n",
        "conf = np.zeros([len(classes),len(classes)])\n",
        "confnorm = np.zeros([len(classes),len(classes)])\n",
        "for i in range(0,X_test.shape[0]):\n",
        "    j = list(Y_test[i,:]).index(1)\n",
        "    k = int(np.argmax(test_Y_hat[i,:]))\n",
        "    conf[j,k] = conf[j,k] + 1\n",
        "for i in range(0,len(classes)):\n",
        "    confnorm[i,:] = conf[i,:] / np.sum(conf[i,:])\n",
        "\n",
        "plt.figure(num=None, figsize=(7, 7), dpi=80, facecolor='w', edgecolor='black')\n",
        "plot_confusion_matrix(confnorm, labels=classes)"
      ],
      "execution_count": 29,
      "outputs": [
        {
          "output_type": "display_data",
          "data": {
            "image/png": "[encoded data removed]",
            "text/plain": [
              "<Figure size 560x560 with 2 Axes>"
            ]
          },
          "metadata": {
            "tags": []
          }
        }
      ]
    },
    {
      "cell_type": "markdown",
      "metadata": {
        "id": "PnpSMEPr9_zr"
      },
      "source": [
        "# Updated(DeviJi)"
      ]
    },
    {
      "cell_type": "code",
      "metadata": {
        "id": "D-9Txbnt9-Xz"
      },
      "source": [
        "import numpy as np\n",
        "import os\n",
        "os.environ[\"KERAS_BACKEND\"] = \"tensorflow\"\n",
        "import keras\n",
        "from keras.utils import np_utils\n",
        "import keras.models as models\n",
        "from keras.layers.core import Reshape,Dense,Dropout,Activation,Flatten\n",
        "from keras.layers.convolutional import Conv2D, MaxPooling2D, ZeroPadding2D\n",
        "from keras.regularizers import *\n",
        "from keras.optimizers import Adam\n",
        "import tensorflow as tf\n",
        "from sklearn.metrics import confusion_matrix\n",
        "import matplotlib\n",
        "matplotlib.use('Agg')\n",
        "import pickle\n",
        "import matplotlib.pyplot as plt\n",
        "import sys\n",
        "import operator\n",
        "from numpy import linalg as la \n",
        "from math import ceil\n",
        "##from keras.utils import multi_gpu_model\n",
        "from keras import backend as K"
      ],
      "execution_count": null,
      "outputs": []
    },
    {
      "cell_type": "code",
      "metadata": {
        "id": "SaIRVBCg-Oaj"
      },
      "source": [
        "import matplotlib.pyplot as plt\n",
        "from matplotlib.pyplot import figure\n",
        "import seaborn as sns\n"
      ],
      "execution_count": null,
      "outputs": []
    },
    {
      "cell_type": "code",
      "metadata": {
        "id": "T7Ox10T4-Qs3"
      },
      "source": [
        "#Mounting Google Drive\n",
        "from google.colab import drive\n",
        "drive.mount('/content/drive')"
      ],
      "execution_count": null,
      "outputs": []
    },
    {
      "cell_type": "code",
      "metadata": {
        "id": "VqNvrE_Q-vAv"
      },
      "source": [
        "# import modules\n",
        "from IPython.display import display, clear_output\n",
        "import numpy as np\n",
        "import os\n",
        "# import deep learning libraries\n",
        "import os\n",
        "import keras\n",
        "import pickle\n",
        "from keras import layers\n",
        "from keras.utils import to_categorical\n",
        "from keras.models import Model, load_model\n",
        "from keras.initializers import glorot_uniform\n",
        "from keras.layers import Input, Dropout, Add, Dense, Reshape, Activation\n",
        "from keras.layers import BatchNormalization, Flatten, Conv1D, MaxPooling1D"
      ],
      "execution_count": null,
      "outputs": []
    },
    {
      "cell_type": "code",
      "metadata": {
        "id": "lw7iXHLG-wwS"
      },
      "source": [
        "import os,random\n",
        "os.environ[\"KERAS_BACKEND\"] = \"tensorflow\"\n",
        "from tensorflow.keras import layers\n",
        "import numpy as np\n",
        "from keras.utils import np_utils\n",
        "import keras.models as models\n",
        "from keras.layers.core import Reshape,Dense,Dropout,Activation,Flatten\n",
        "from keras.layers.noise import GaussianNoise\n",
        "from keras.layers.convolutional import Conv2D, MaxPooling2D, ZeroPadding2D\n",
        "from keras.regularizers import *\n",
        "from tensorflow.python.keras.optimizer_v2.adam import Adam\n",
        "import matplotlib.pyplot as plt\n",
        "from matplotlib.pyplot import figure\n",
        "import seaborn as sns\n",
        "import pickle, random, sys, keras\n",
        "import h5py"
      ],
      "execution_count": null,
      "outputs": []
    },
    {
      "cell_type": "code",
      "metadata": {
        "id": "x623aOd6-zlL"
      },
      "source": [
        "maxlen = 128 # change subnyq sampling rate HERE.\n",
        "\n",
        "def gendata(fp, nsamples):\n",
        "    global snrs, mods, train_idx, test_idx, lbl\n",
        "    with open(fp, 'rb') as f:\n",
        "      Xd = pickle.load(f, encoding='latin1')\n",
        "    \n",
        "    snrs,mods = map(lambda j: sorted(list(set(map(lambda x: x[j], Xd.keys())))), [1,0])\n",
        "    X = []  \n",
        "    lbl = []\n",
        "    for mod in mods:\n",
        "      for snr in snrs:\n",
        "        X.append(Xd[(mod, snr)])\n",
        "        for i in range(Xd[(mod, snr)].shape[0]):\n",
        "          lbl.append((mod, snr))\n",
        "    X = np.vstack(X)\n",
        "    \n",
        "    print('Length of lbl', len(lbl))\n",
        "    print('shape of X', X.shape)\n",
        "\n",
        "    np.random.seed(2016)\n",
        "    n_example = X.shape[0]\n",
        "    n_train = n_example * 0.5\n",
        "    train_idx = np.random.choice(range(0,n_example), size=int(n_train), replace=False)\n",
        "    test_idx = list(set(range(0, n_example)) - set(train_idx))\n",
        "    X_train = X[train_idx]\n",
        "    X_test =  X[test_idx]\n",
        "    \n",
        "    def to_onehot(vec):\n",
        "      vec_hot = np.zeros([len(vec), max(vec) + 1])\n",
        "      vec_hot[np.arange(len(vec)), vec] = 1\n",
        "      return vec_hot\n",
        "    \n",
        "    Y_train = to_onehot(list(map(lambda x: mods.index(lbl[x][0]), train_idx)))\n",
        "    Y_test = to_onehot(list(map(lambda x: mods.index(lbl[x][0]), test_idx)))\n",
        "\n",
        "    return (X_train,X_test,Y_train,Y_test)\n",
        "\n",
        "def norm_pad_zeros(X_train,nsamples):\n",
        "    print (\"Pad:\", X_train.shape)\n",
        "    for i in range(X_train.shape[0]):\n",
        "        X_train[i,:,0] = X_train[i,:,0]/la.norm(X_train[i,:,0],2)\n",
        "    return X_train\n",
        "\n",
        "\n",
        "def to_amp_phase(X_train,X_test,nsamples):\n",
        "    X_train_cmplx = X_train[:,0,:] + 1j* X_train[:,1,:]\n",
        "    X_test_cmplx = X_test[:,0,:] + 1j* X_test[:,1,:]\n",
        "    \n",
        "    X_train_amp = np.abs(X_train_cmplx)\n",
        "    X_train_ang = np.arctan2(X_train[:,1,:],X_train[:,0,:])/np.pi\n",
        "  \n",
        "\n",
        "    X_train_amp = np.reshape(X_train_amp,(-1,1,nsamples))\n",
        "    X_train_ang = np.reshape(X_train_ang,(-1,1,nsamples))\n",
        "   \n",
        "    X_train = np.concatenate((X_train_amp,X_train_ang), axis=1) \n",
        "    X_train = np.transpose(np.array(X_train),(0,2,1))\n",
        "    \n",
        "    X_test_amp = np.abs(X_test_cmplx)\n",
        "    X_test_ang = np.arctan2(X_test[:,1,:],X_test[:,0,:])/np.pi\n",
        "    \n",
        "    \n",
        "    X_test_amp = np.reshape(X_test_amp,(-1,1,nsamples))\n",
        "    X_test_ang = np.reshape(X_test_ang,(-1,1,nsamples))\n",
        "    \n",
        "    X_test = np.concatenate((X_test_amp,X_test_ang), axis=1) \n",
        "    X_test = np.transpose(np.array(X_test),(0,2,1))\n",
        "\n",
        "    X_train = np.transpose(X_train,axes=(0,2,1))\n",
        "    X_test = np.transpose(X_test,axes=(0,2,1))\n",
        "    return (X_train, X_test)\n"
      ],
      "execution_count": null,
      "outputs": []
    },
    {
      "cell_type": "code",
      "metadata": {
        "id": "kRcph84r-1xk"
      },
      "source": [
        "xtrain1,xtest1,ytrain1,ytest1= gendata(\"/content/drive/My Drive/Colab Notebooks/DATA/Lavanya/RML2016.10a_dict.pickle.pkl\",maxlen)\n",
        "print(xtrain1.shape)\n",
        "print(ytrain1.shape)                \n",
        "#print('using version 10a dataset')\n",
        "#test_SNRs = map(lambda x: lbl[x][1], test_idx)\n",
        "#train_SNRs = map(lambda x: lbl[x][1], train_idx)\n",
        "#train_snr = lambda snr: xtrain1[np.where(np.array(train_SNRs)==snr)]\n",
        "#test_snr = lambda snr: ytrain1[np.where(np.array(train_SNRs)==snr)]\n"
      ],
      "execution_count": null,
      "outputs": []
    },
    {
      "cell_type": "code",
      "metadata": {
        "id": "qavYg_7f_DWE"
      },
      "source": [
        "print('length of X before to_amp_phase:', xtrain1.shape)\n",
        "X_train_ap,X_test_ap = to_amp_phase(xtrain1,xtest1,maxlen)\n",
        "print('length of X after to_amp_phase:', xtrain1.shape)\n",
        "X_train_iq, Y_train_iq = xtrain1, ytrain1\n",
        "X_test_iq, Y_test_iq = xtest1, ytest1\n",
        "Y_train_ap, Y_test_ap = ytrain1, ytest1"
      ],
      "execution_count": null,
      "outputs": []
    },
    {
      "cell_type": "code",
      "metadata": {
        "id": "LNXPYzgq_LQ3"
      },
      "source": [
        "print(\"--\"*50)\n",
        "print(\"Training data for 1st Stream: \",X_train_ap.shape)\n",
        "print(\"Training labels for 1st Stream: \",Y_train_ap.shape)\n",
        "print(\"Testing data for 1st Stream: \",X_test_ap.shape)\n",
        "print(\"Testing labels for 1st Stream: \",Y_test_ap.shape)\n",
        "print(\"--\"*50)\n",
        "print(\"Training data for 2nd Stream: \",X_train_iq.shape)\n",
        "print(\"Training labels for 2nd Stream :\",Y_train_iq.shape)\n",
        "print(\"Testing data for 2nd Stream :  \",X_test_iq.shape)\n",
        "print(\"Testing labels for 2nd Stream : \",Y_test_iq.shape)\n",
        "print(\"--\"*50)"
      ],
      "execution_count": null,
      "outputs": []
    },
    {
      "cell_type": "code",
      "metadata": {
        "id": "fV9JWfO2B937"
      },
      "source": [
        "X_train_ap=np.reshape(X_train_ap,(-1,2,128,1))\n",
        "X_test_ap=np.reshape(X_test_ap,(-1,2,128,1))\n",
        "X_train_iq=np.reshape(X_train_iq,(-1,2,128,1))\n",
        "X_test_iq=np.reshape(X_test_iq,(-1,2,128,1))"
      ],
      "execution_count": null,
      "outputs": []
    },
    {
      "cell_type": "code",
      "metadata": {
        "id": "J0Eh_JxiCrqq"
      },
      "source": [
        "dr=0.1"
      ],
      "execution_count": null,
      "outputs": []
    },
    {
      "cell_type": "code",
      "metadata": {
        "id": "yTxKW6Lm_3jH"
      },
      "source": [
        "model1 = Sequential()\n",
        "model1.add(ZeroPadding2D((0,2),input_shape=(X_train_ap.shape[1],X_train_ap.shape[2],X_train_ap.shape[3])))\n",
        "model1.add(Conv2D(50, (1, 8), padding='valid', activation=\"relu\", name=\"conv11\", kernel_initializer='glorot_uniform'))\n",
        "model1.add(Dropout(dr))\n",
        "model1.add(ZeroPadding2D((0, 2)))\n",
        "model1.add(Conv2D(50, (1, 8), padding='valid', activation=\"relu\", name=\"conv12\", kernel_initializer='glorot_uniform'))\n",
        "model1.add(Dropout(dr))\n",
        "model1.add(ZeroPadding2D((0, 2)))\n",
        "model1.add(Conv2D(50, (1, 8), padding='valid', activation=\"relu\", name=\"conv13\", kernel_initializer='glorot_uniform'))\n",
        "model1.add(Dropout(dr))\n",
        "model1.add(ZeroPadding2D((0, 2)))"
      ],
      "execution_count": null,
      "outputs": []
    },
    {
      "cell_type": "code",
      "metadata": {
        "id": "najfU-YQC3eH"
      },
      "source": [
        "layer11 = Conv2D(50, (1, 8), padding='valid', activation=\"relu\", name=\"conv11\", kernel_initializer='glorot_uniform'\n",
        "                 )(input_x_padding)\n",
        "layer11 = Dropout(dr)(layer11)\n",
        "\n",
        "layer11_padding = ZeroPadding2D((0, 2))(layer11)\n",
        "layer12 = Conv2D(50, (1, 8), padding=\"valid\", activation=\"relu\", name=\"conv12\", kernel_initializer='glorot_uniform'\n",
        "                )(layer11_padding)\n",
        "layer12 = Dropout(dr)(layer12)\n",
        "\n",
        "layer12 = ZeroPadding2D((0, 2))(layer12)\n",
        "layer13 = Conv2D(50, (1, 8), padding='valid', activation=\"relu\", name=\"conv13\", kernel_initializer='glorot_uniform'\n",
        "                 )(layer12)\n",
        "layer13 = Dropout(dr)(layer13)"
      ],
      "execution_count": null,
      "outputs": []
    },
    {
      "cell_type": "code",
      "metadata": {
        "id": "QmoSQ_NMDui-"
      },
      "source": [
        "#LSTM\n",
        "concat = keras.layers.concatenate([layer11, layer13],axis=2)\n",
        "concat_size = list(np.shape(concat))\n",
        "input_dim = int(concat_size[-1] * concat_size[-2])\n",
        "timesteps = int(concat_size[-3])\n",
        "# concat = np.reshape(concat, (-1,timesteps,input_dim))\n",
        "concat = Reshape((timesteps, input_dim))(concat)\n",
        "# 形如（samples，timesteps，input_dim）的3D张量\n",
        "lstm_out = LSTM(50, input_dim=input_dim, input_length=timesteps)(concat)"
      ],
      "execution_count": null,
      "outputs": []
    },
    {
      "cell_type": "code",
      "metadata": {
        "id": "S5VEInzGD3xr"
      },
      "source": [
        "print(input_dim,timesteps)"
      ],
      "execution_count": null,
      "outputs": []
    },
    {
      "cell_type": "code",
      "metadata": {
        "id": "RsKe_3lHD8xR"
      },
      "source": [
        "model1.add(Reshape((timesteps, 6150)))\n",
        "model1.add(LSTM(50, input_dim=input_dim, name=\"lstm1\",input_length=timesteps))\n",
        "model1.add(Dense(256, activation='relu', kernel_initializer='he_normal', name=\"dense1\"))\n",
        "model1.add(Dropout(dr))\n",
        "model1.add(Dense(11, activation='relu', kernel_initializer='he_normal', name=\"dense2\"))\n",
        "model1.add(Dense(11,activation='softmax'))\n",
        "model1.compile(optimizer = 'adam', loss = 'categorical_crossentropy',metrics=['accuracy'])\n",
        "model1.summary()"
      ],
      "execution_count": null,
      "outputs": []
    },
    {
      "cell_type": "code",
      "metadata": {
        "id": "3WQ2o3y5HXrj"
      },
      "source": [
        "filepath = \"dual_cnn_lstm_adi_%s_0.5.wts.h5\" "
      ],
      "execution_count": null,
      "outputs": []
    },
    {
      "cell_type": "code",
      "metadata": {
        "id": "Uugus72NHDKH"
      },
      "source": [
        "history = model1.fit(X_train_ap,\n",
        "                    Y_train_ap,\n",
        "                    batch_size=64,\n",
        "                    epochs=100,\n",
        "                    verbose=2,\n",
        "                    validation_data=(X_test_ap, Y_test_ap),\n",
        "                    callbacks=[  # 回调函数，https://keras-cn.readthedocs.io/en/latest/other/callbacks/\n",
        "                        keras.callbacks.ModelCheckpoint(filepath, monitor='val_loss', verbose=0, save_best_only=True,\n",
        "                                                        mode='auto'),\n",
        "                        keras.callbacks.EarlyStopping(monitor='val_loss', patience=5, verbose=0, mode='auto')\n",
        "                    ])  # EarlyStopping 当监测值不再改善时，该回调函数将中止训练，如去除本行将执行所有epoch\n"
      ],
      "execution_count": null,
      "outputs": []
    },
    {
      "cell_type": "code",
      "metadata": {
        "id": "PxKZz77_Hs0c"
      },
      "source": [
        "# Second Stream\n",
        "model2 = Sequential()\n",
        "model2.add(ZeroPadding2D((0,2),input_shape=(X_train_iq.shape[1],X_train_iq.shape[2],X_train_iq.shape[3])))\n",
        "model2.add(Conv2D(50, (1, 8), padding='valid', activation=\"relu\", name=\"conv11\", kernel_initializer='glorot_uniform'))\n",
        "model2.add(Dropout(dr))\n",
        "model2.add(ZeroPadding2D((0, 2)))\n",
        "model2.add(Conv2D(50, (1, 8), padding='valid', activation=\"relu\", name=\"conv12\", kernel_initializer='glorot_uniform'))\n",
        "model2.add(Dropout(dr))\n",
        "model2.add(ZeroPadding2D((0, 2)))\n",
        "model2.add(Conv2D(50, (1, 8), padding='valid', activation=\"relu\", name=\"conv13\", kernel_initializer='glorot_uniform'))\n",
        "model2.add(Dropout(dr))\n",
        "model2.add(ZeroPadding2D((0, 2)))\n",
        "\n",
        "layer11_iq = Conv2D(50, (1, 8), padding='valid', activation=\"relu\", name=\"conv11\", kernel_initializer='glorot_uniform'\n",
        "                 )(input_x_padding)\n",
        "layer11_iq = Dropout(dr)(layer11)\n",
        "\n",
        "layer11_padding_iq = ZeroPadding2D((0, 2))(layer11)\n",
        "layer12_iq = Conv2D(50, (1, 8), padding=\"valid\", activation=\"relu\", name=\"conv12\", kernel_initializer='glorot_uniform'\n",
        "                )(layer11_padding)\n",
        "layer12_iq = Dropout(dr)(layer12)\n",
        "\n",
        "layer12_iq = ZeroPadding2D((0, 2))(layer12)\n",
        "layer13_iq = Conv2D(50, (1, 8), padding='valid', activation=\"relu\", name=\"conv13\", kernel_initializer='glorot_uniform'\n",
        "                 )(layer12)\n",
        "layer13_iq = Dropout(dr)(layer13)\n",
        "\n",
        "#LSTM\n",
        "concat = keras.layers.concatenate([layer11_iq, layer13_iq],axis=2)\n",
        "concat_size = list(np.shape(concat))\n",
        "input_dim = int(concat_size[-1] * concat_size[-2])\n",
        "timesteps = int(concat_size[-3])\n",
        "# concat = np.reshape(concat, (-1,timesteps,input_dim))\n",
        "concat = Reshape((timesteps, input_dim))(concat)\n",
        "# 形如（samples，timesteps，input_dim）的3D张量\n",
        "lstm_out = LSTM(50, input_dim=input_dim, input_length=timesteps)(concat)\n",
        "\n",
        "model2.add(Reshape((timesteps, 6150)))\n",
        "model2.add(LSTM(50, input_dim=input_dim, name=\"lstm1\",input_length=timesteps))\n",
        "model2.add(Dense(256, activation='relu', kernel_initializer='he_normal', name=\"dense1\"))\n",
        "model2.add(Dropout(dr))\n",
        "model2.add(Dense(11, activation='relu', kernel_initializer='he_normal', name=\"dense2\"))\n",
        "model2.add(Dense(11,activation='softmax'))\n",
        "model2.compile(optimizer = 'adam', loss = 'categorical_crossentropy',metrics=['accuracy'])\n",
        "model2.summary()"
      ],
      "execution_count": null,
      "outputs": []
    },
    {
      "cell_type": "code",
      "metadata": {
        "id": "uHVJlbUYIgTE"
      },
      "source": [
        "filepath = \"dual_iq__cnn_lstm_adi_%s_0.5.wts.h5\" \n",
        "history = model1.fit(X_train_iq,\n",
        "                    Y_train_iq,\n",
        "                    batch_size=64,\n",
        "                    epochs=100,\n",
        "                    verbose=2,\n",
        "                    validation_data=(X_test_iq, Y_test_iq),\n",
        "                    callbacks=[  # 回调函数，https://keras-cn.readthedocs.io/en/latest/other/callbacks/\n",
        "                        keras.callbacks.ModelCheckpoint(filepath, monitor='val_loss', verbose=0, save_best_only=True,\n",
        "                                                        mode='auto'),\n",
        "                        keras.callbacks.EarlyStopping(monitor='val_loss', patience=5, verbose=0, mode='auto')\n",
        "                    ])  # EarlyStopping 当监测值不再改善时，该回调函数将中止训练，如去除本行将执行所有epoch\n"
      ],
      "execution_count": null,
      "outputs": []
    }
  ]
}